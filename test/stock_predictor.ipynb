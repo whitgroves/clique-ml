{
 "cells": [
  {
   "cell_type": "markdown",
   "metadata": {},
   "source": [
    "This is a watered-down version of project 4 from the [fintech bootcamp at home](https://github.com/whitgroves/fintech-bootcamp-at-home) used with some models from my [optiver Kaggle submission](https://github.com/whitgroves/optiver-trading-at-the-close) to test the ensemble's performance. Feel free to treat this as a setup guide if you need an example and/or use case."
   ]
  },
  {
   "cell_type": "code",
   "execution_count": 1,
   "metadata": {},
   "outputs": [
    {
     "name": "stdout",
     "output_type": "stream",
     "text": [
      "/mnt/Data/Repos/clique-ml/.cuda/bin:/usr/local/cuda/bin:/home/whitgroves/.local/bin:/usr/local/cuda/bin:/home/whitgroves/.local/bin:/usr/local/cuda/bin:/home/whitgroves/.local/bin:/usr/local/sbin:/usr/local/bin:/usr/sbin:/usr/bin:/sbin:/bin:/usr/games:/usr/local/games:/snap/bin:/snap/bin\n"
     ]
    }
   ],
   "source": [
    "!echo $PATH # if /usr/local/cuda/bin is missing, re-run VScode form terminal"
   ]
  },
  {
   "cell_type": "code",
   "execution_count": 2,
   "metadata": {},
   "outputs": [
    {
     "name": "stdout",
     "output_type": "stream",
     "text": [
      "ptxas: NVIDIA (R) Ptx optimizing assembler\n",
      "Copyright (c) 2005-2023 NVIDIA Corporation\n",
      "Built on Tue_Jun_13_19:13:58_PDT_2023\n",
      "Cuda compilation tools, release 12.2, V12.2.91\n",
      "Build cuda_12.2.r12.2/compiler.32965470_0\n"
     ]
    }
   ],
   "source": [
    "!ptxas --version # expecting 12.2"
   ]
  },
  {
   "cell_type": "code",
   "execution_count": 3,
   "metadata": {},
   "outputs": [
    {
     "data": {
      "text/html": [
       "<div>\n",
       "<style scoped>\n",
       "    .dataframe tbody tr th:only-of-type {\n",
       "        vertical-align: middle;\n",
       "    }\n",
       "\n",
       "    .dataframe tbody tr th {\n",
       "        vertical-align: top;\n",
       "    }\n",
       "\n",
       "    .dataframe thead th {\n",
       "        text-align: right;\n",
       "    }\n",
       "</style>\n",
       "<table border=\"1\" class=\"dataframe\">\n",
       "  <thead>\n",
       "    <tr style=\"text-align: right;\">\n",
       "      <th></th>\n",
       "      <th>symbol</th>\n",
       "      <th>timestamp</th>\n",
       "      <th>open</th>\n",
       "      <th>high</th>\n",
       "      <th>low</th>\n",
       "      <th>close</th>\n",
       "      <th>volume</th>\n",
       "      <th>trade_count</th>\n",
       "      <th>vwap</th>\n",
       "    </tr>\n",
       "  </thead>\n",
       "  <tbody>\n",
       "    <tr>\n",
       "      <th>0</th>\n",
       "      <td>BB</td>\n",
       "      <td>2022-01-03 05:00:00+00:00</td>\n",
       "      <td>9.32</td>\n",
       "      <td>9.3900</td>\n",
       "      <td>9.1000</td>\n",
       "      <td>9.37</td>\n",
       "      <td>5267494.0</td>\n",
       "      <td>26372.0</td>\n",
       "      <td>9.268915</td>\n",
       "    </tr>\n",
       "    <tr>\n",
       "      <th>1</th>\n",
       "      <td>BB</td>\n",
       "      <td>2022-01-04 05:00:00+00:00</td>\n",
       "      <td>9.37</td>\n",
       "      <td>9.4900</td>\n",
       "      <td>9.1200</td>\n",
       "      <td>9.33</td>\n",
       "      <td>6360118.0</td>\n",
       "      <td>29899.0</td>\n",
       "      <td>9.271508</td>\n",
       "    </tr>\n",
       "    <tr>\n",
       "      <th>2</th>\n",
       "      <td>BB</td>\n",
       "      <td>2022-01-05 05:00:00+00:00</td>\n",
       "      <td>9.27</td>\n",
       "      <td>9.3471</td>\n",
       "      <td>8.7800</td>\n",
       "      <td>8.78</td>\n",
       "      <td>9620376.0</td>\n",
       "      <td>39131.0</td>\n",
       "      <td>9.026742</td>\n",
       "    </tr>\n",
       "    <tr>\n",
       "      <th>3</th>\n",
       "      <td>BB</td>\n",
       "      <td>2022-01-06 05:00:00+00:00</td>\n",
       "      <td>8.79</td>\n",
       "      <td>9.0200</td>\n",
       "      <td>8.4700</td>\n",
       "      <td>8.78</td>\n",
       "      <td>11505077.0</td>\n",
       "      <td>47090.0</td>\n",
       "      <td>8.771278</td>\n",
       "    </tr>\n",
       "    <tr>\n",
       "      <th>4</th>\n",
       "      <td>BB</td>\n",
       "      <td>2022-01-07 05:00:00+00:00</td>\n",
       "      <td>8.97</td>\n",
       "      <td>9.2300</td>\n",
       "      <td>8.8000</td>\n",
       "      <td>8.86</td>\n",
       "      <td>6509053.0</td>\n",
       "      <td>29903.0</td>\n",
       "      <td>8.953267</td>\n",
       "    </tr>\n",
       "    <tr>\n",
       "      <th>...</th>\n",
       "      <td>...</td>\n",
       "      <td>...</td>\n",
       "      <td>...</td>\n",
       "      <td>...</td>\n",
       "      <td>...</td>\n",
       "      <td>...</td>\n",
       "      <td>...</td>\n",
       "      <td>...</td>\n",
       "      <td>...</td>\n",
       "    </tr>\n",
       "    <tr>\n",
       "      <th>511</th>\n",
       "      <td>BB</td>\n",
       "      <td>2024-01-17 05:00:00+00:00</td>\n",
       "      <td>3.33</td>\n",
       "      <td>3.3500</td>\n",
       "      <td>3.2748</td>\n",
       "      <td>3.34</td>\n",
       "      <td>3264012.0</td>\n",
       "      <td>9790.0</td>\n",
       "      <td>3.322546</td>\n",
       "    </tr>\n",
       "    <tr>\n",
       "      <th>512</th>\n",
       "      <td>BB</td>\n",
       "      <td>2024-01-18 05:00:00+00:00</td>\n",
       "      <td>3.37</td>\n",
       "      <td>3.4200</td>\n",
       "      <td>3.3450</td>\n",
       "      <td>3.39</td>\n",
       "      <td>3564418.0</td>\n",
       "      <td>9148.0</td>\n",
       "      <td>3.377668</td>\n",
       "    </tr>\n",
       "    <tr>\n",
       "      <th>513</th>\n",
       "      <td>BB</td>\n",
       "      <td>2024-01-19 05:00:00+00:00</td>\n",
       "      <td>3.38</td>\n",
       "      <td>3.4550</td>\n",
       "      <td>3.3450</td>\n",
       "      <td>3.43</td>\n",
       "      <td>7640902.0</td>\n",
       "      <td>13106.0</td>\n",
       "      <td>3.423459</td>\n",
       "    </tr>\n",
       "    <tr>\n",
       "      <th>514</th>\n",
       "      <td>BB</td>\n",
       "      <td>2024-01-22 05:00:00+00:00</td>\n",
       "      <td>3.60</td>\n",
       "      <td>3.6000</td>\n",
       "      <td>3.6000</td>\n",
       "      <td>3.60</td>\n",
       "      <td>2332.0</td>\n",
       "      <td>15.0</td>\n",
       "      <td>3.569584</td>\n",
       "    </tr>\n",
       "    <tr>\n",
       "      <th>515</th>\n",
       "      <td>BB</td>\n",
       "      <td>2024-01-23 05:00:00+00:00</td>\n",
       "      <td>3.62</td>\n",
       "      <td>3.6250</td>\n",
       "      <td>3.5400</td>\n",
       "      <td>3.56</td>\n",
       "      <td>2083296.0</td>\n",
       "      <td>4681.0</td>\n",
       "      <td>3.579348</td>\n",
       "    </tr>\n",
       "  </tbody>\n",
       "</table>\n",
       "<p>516 rows × 9 columns</p>\n",
       "</div>"
      ],
      "text/plain": [
       "    symbol                  timestamp  open    high     low  close  \\\n",
       "0       BB  2022-01-03 05:00:00+00:00  9.32  9.3900  9.1000   9.37   \n",
       "1       BB  2022-01-04 05:00:00+00:00  9.37  9.4900  9.1200   9.33   \n",
       "2       BB  2022-01-05 05:00:00+00:00  9.27  9.3471  8.7800   8.78   \n",
       "3       BB  2022-01-06 05:00:00+00:00  8.79  9.0200  8.4700   8.78   \n",
       "4       BB  2022-01-07 05:00:00+00:00  8.97  9.2300  8.8000   8.86   \n",
       "..     ...                        ...   ...     ...     ...    ...   \n",
       "511     BB  2024-01-17 05:00:00+00:00  3.33  3.3500  3.2748   3.34   \n",
       "512     BB  2024-01-18 05:00:00+00:00  3.37  3.4200  3.3450   3.39   \n",
       "513     BB  2024-01-19 05:00:00+00:00  3.38  3.4550  3.3450   3.43   \n",
       "514     BB  2024-01-22 05:00:00+00:00  3.60  3.6000  3.6000   3.60   \n",
       "515     BB  2024-01-23 05:00:00+00:00  3.62  3.6250  3.5400   3.56   \n",
       "\n",
       "         volume  trade_count      vwap  \n",
       "0     5267494.0      26372.0  9.268915  \n",
       "1     6360118.0      29899.0  9.271508  \n",
       "2     9620376.0      39131.0  9.026742  \n",
       "3    11505077.0      47090.0  8.771278  \n",
       "4     6509053.0      29903.0  8.953267  \n",
       "..          ...          ...       ...  \n",
       "511   3264012.0       9790.0  3.322546  \n",
       "512   3564418.0       9148.0  3.377668  \n",
       "513   7640902.0      13106.0  3.423459  \n",
       "514      2332.0         15.0  3.569584  \n",
       "515   2083296.0       4681.0  3.579348  \n",
       "\n",
       "[516 rows x 9 columns]"
      ]
     },
     "execution_count": 3,
     "metadata": {},
     "output_type": "execute_result"
    }
   ],
   "source": [
    "import pandas as pd\n",
    "import random as r\n",
    "\n",
    "df = pd.read_csv('./stock_bars.csv')\n",
    "df = df.loc[df.symbol == r.choice(df.symbol.unique())] # pick a single stock from the test data each time\n",
    "df"
   ]
  },
  {
   "cell_type": "code",
   "execution_count": 4,
   "metadata": {},
   "outputs": [
    {
     "data": {
      "text/html": [
       "<div>\n",
       "<style scoped>\n",
       "    .dataframe tbody tr th:only-of-type {\n",
       "        vertical-align: middle;\n",
       "    }\n",
       "\n",
       "    .dataframe tbody tr th {\n",
       "        vertical-align: top;\n",
       "    }\n",
       "\n",
       "    .dataframe thead th {\n",
       "        text-align: right;\n",
       "    }\n",
       "</style>\n",
       "<table border=\"1\" class=\"dataframe\">\n",
       "  <thead>\n",
       "    <tr style=\"text-align: right;\">\n",
       "      <th></th>\n",
       "      <th>symbol</th>\n",
       "      <th>timestamp</th>\n",
       "      <th>open</th>\n",
       "      <th>high</th>\n",
       "      <th>low</th>\n",
       "      <th>close</th>\n",
       "      <th>volume</th>\n",
       "      <th>trade_count</th>\n",
       "      <th>vwap</th>\n",
       "    </tr>\n",
       "  </thead>\n",
       "  <tbody>\n",
       "    <tr>\n",
       "      <th>0</th>\n",
       "      <td>BB</td>\n",
       "      <td>2022-01-03 05:00:00+00:00</td>\n",
       "      <td>3.230217</td>\n",
       "      <td>3.114700</td>\n",
       "      <td>3.236637</td>\n",
       "      <td>3.282115</td>\n",
       "      <td>-0.326388</td>\n",
       "      <td>0.809768</td>\n",
       "      <td>3.194762</td>\n",
       "    </tr>\n",
       "    <tr>\n",
       "      <th>1</th>\n",
       "      <td>BB</td>\n",
       "      <td>2022-01-04 05:00:00+00:00</td>\n",
       "      <td>3.268630</td>\n",
       "      <td>3.189574</td>\n",
       "      <td>3.252447</td>\n",
       "      <td>3.251254</td>\n",
       "      <td>-0.062726</td>\n",
       "      <td>1.157147</td>\n",
       "      <td>3.196758</td>\n",
       "    </tr>\n",
       "    <tr>\n",
       "      <th>2</th>\n",
       "      <td>BB</td>\n",
       "      <td>2022-01-05 05:00:00+00:00</td>\n",
       "      <td>3.191805</td>\n",
       "      <td>3.082579</td>\n",
       "      <td>2.983688</td>\n",
       "      <td>2.826914</td>\n",
       "      <td>0.724010</td>\n",
       "      <td>2.066417</td>\n",
       "      <td>3.008389</td>\n",
       "    </tr>\n",
       "    <tr>\n",
       "      <th>3</th>\n",
       "      <td>BB</td>\n",
       "      <td>2022-01-06 05:00:00+00:00</td>\n",
       "      <td>2.823042</td>\n",
       "      <td>2.837666</td>\n",
       "      <td>2.738644</td>\n",
       "      <td>2.826914</td>\n",
       "      <td>1.178808</td>\n",
       "      <td>2.850308</td>\n",
       "      <td>2.811788</td>\n",
       "    </tr>\n",
       "    <tr>\n",
       "      <th>4</th>\n",
       "      <td>BB</td>\n",
       "      <td>2022-01-07 05:00:00+00:00</td>\n",
       "      <td>2.961328</td>\n",
       "      <td>2.994901</td>\n",
       "      <td>2.999498</td>\n",
       "      <td>2.888637</td>\n",
       "      <td>-0.026787</td>\n",
       "      <td>1.157541</td>\n",
       "      <td>2.951844</td>\n",
       "    </tr>\n",
       "    <tr>\n",
       "      <th>...</th>\n",
       "      <td>...</td>\n",
       "      <td>...</td>\n",
       "      <td>...</td>\n",
       "      <td>...</td>\n",
       "      <td>...</td>\n",
       "      <td>...</td>\n",
       "      <td>...</td>\n",
       "      <td>...</td>\n",
       "      <td>...</td>\n",
       "    </tr>\n",
       "    <tr>\n",
       "      <th>511</th>\n",
       "      <td>BB</td>\n",
       "      <td>2024-01-17 05:00:00+00:00</td>\n",
       "      <td>-1.371634</td>\n",
       "      <td>-1.407688</td>\n",
       "      <td>-1.367984</td>\n",
       "      <td>-1.370193</td>\n",
       "      <td>-0.809850</td>\n",
       "      <td>-0.823411</td>\n",
       "      <td>-1.381475</td>\n",
       "    </tr>\n",
       "    <tr>\n",
       "      <th>512</th>\n",
       "      <td>BB</td>\n",
       "      <td>2024-01-18 05:00:00+00:00</td>\n",
       "      <td>-1.340904</td>\n",
       "      <td>-1.355277</td>\n",
       "      <td>-1.312493</td>\n",
       "      <td>-1.331617</td>\n",
       "      <td>-0.737359</td>\n",
       "      <td>-0.886643</td>\n",
       "      <td>-1.339053</td>\n",
       "    </tr>\n",
       "    <tr>\n",
       "      <th>513</th>\n",
       "      <td>BB</td>\n",
       "      <td>2024-01-19 05:00:00+00:00</td>\n",
       "      <td>-1.333221</td>\n",
       "      <td>-1.329071</td>\n",
       "      <td>-1.312493</td>\n",
       "      <td>-1.300756</td>\n",
       "      <td>0.246341</td>\n",
       "      <td>-0.496815</td>\n",
       "      <td>-1.303813</td>\n",
       "    </tr>\n",
       "    <tr>\n",
       "      <th>514</th>\n",
       "      <td>BB</td>\n",
       "      <td>2024-01-22 05:00:00+00:00</td>\n",
       "      <td>-1.164205</td>\n",
       "      <td>-1.220503</td>\n",
       "      <td>-1.110925</td>\n",
       "      <td>-1.169596</td>\n",
       "      <td>-1.596929</td>\n",
       "      <td>-1.786162</td>\n",
       "      <td>-1.191358</td>\n",
       "    </tr>\n",
       "    <tr>\n",
       "      <th>515</th>\n",
       "      <td>BB</td>\n",
       "      <td>2024-01-23 05:00:00+00:00</td>\n",
       "      <td>-1.148840</td>\n",
       "      <td>-1.201785</td>\n",
       "      <td>-1.158353</td>\n",
       "      <td>-1.200457</td>\n",
       "      <td>-1.094770</td>\n",
       "      <td>-1.326603</td>\n",
       "      <td>-1.183844</td>\n",
       "    </tr>\n",
       "  </tbody>\n",
       "</table>\n",
       "<p>516 rows × 9 columns</p>\n",
       "</div>"
      ],
      "text/plain": [
       "    symbol                  timestamp      open      high       low     close  \\\n",
       "0       BB  2022-01-03 05:00:00+00:00  3.230217  3.114700  3.236637  3.282115   \n",
       "1       BB  2022-01-04 05:00:00+00:00  3.268630  3.189574  3.252447  3.251254   \n",
       "2       BB  2022-01-05 05:00:00+00:00  3.191805  3.082579  2.983688  2.826914   \n",
       "3       BB  2022-01-06 05:00:00+00:00  2.823042  2.837666  2.738644  2.826914   \n",
       "4       BB  2022-01-07 05:00:00+00:00  2.961328  2.994901  2.999498  2.888637   \n",
       "..     ...                        ...       ...       ...       ...       ...   \n",
       "511     BB  2024-01-17 05:00:00+00:00 -1.371634 -1.407688 -1.367984 -1.370193   \n",
       "512     BB  2024-01-18 05:00:00+00:00 -1.340904 -1.355277 -1.312493 -1.331617   \n",
       "513     BB  2024-01-19 05:00:00+00:00 -1.333221 -1.329071 -1.312493 -1.300756   \n",
       "514     BB  2024-01-22 05:00:00+00:00 -1.164205 -1.220503 -1.110925 -1.169596   \n",
       "515     BB  2024-01-23 05:00:00+00:00 -1.148840 -1.201785 -1.158353 -1.200457   \n",
       "\n",
       "       volume  trade_count      vwap  \n",
       "0   -0.326388     0.809768  3.194762  \n",
       "1   -0.062726     1.157147  3.196758  \n",
       "2    0.724010     2.066417  3.008389  \n",
       "3    1.178808     2.850308  2.811788  \n",
       "4   -0.026787     1.157541  2.951844  \n",
       "..        ...          ...       ...  \n",
       "511 -0.809850    -0.823411 -1.381475  \n",
       "512 -0.737359    -0.886643 -1.339053  \n",
       "513  0.246341    -0.496815 -1.303813  \n",
       "514 -1.596929    -1.786162 -1.191358  \n",
       "515 -1.094770    -1.326603 -1.183844  \n",
       "\n",
       "[516 rows x 9 columns]"
      ]
     },
     "execution_count": 4,
     "metadata": {},
     "output_type": "execute_result"
    }
   ],
   "source": [
    "def standardize(data:pd.DataFrame, skip_cols:list[str]=[]) -> pd.DataFrame:\n",
    "    skip_cols = [col for col in skip_cols if col in data.columns]\n",
    "    skip = data[skip_cols]\n",
    "    temp = data.drop(skip_cols, axis=1)\n",
    "    temp = (temp - temp.mean()) / temp.std(ddof=0) # standardize\n",
    "    temp = temp.ffill().fillna(0) # impute\n",
    "    return pd.concat([skip, temp], axis=1, join='inner')\n",
    "\n",
    "df = standardize(df, ['symbol', 'timestamp'])\n",
    "df"
   ]
  },
  {
   "cell_type": "code",
   "execution_count": 5,
   "metadata": {},
   "outputs": [],
   "source": [
    "y = df['low'].shift(-1) - df['low'] # since data is standardized, we learn/predict the difference between t-1 and t\n",
    "X = df.drop(['symbol', 'timestamp'], axis=1)"
   ]
  },
  {
   "cell_type": "code",
   "execution_count": 6,
   "metadata": {},
   "outputs": [
    {
     "data": {
      "text/html": [
       "<div>\n",
       "<style scoped>\n",
       "    .dataframe tbody tr th:only-of-type {\n",
       "        vertical-align: middle;\n",
       "    }\n",
       "\n",
       "    .dataframe tbody tr th {\n",
       "        vertical-align: top;\n",
       "    }\n",
       "\n",
       "    .dataframe thead th {\n",
       "        text-align: right;\n",
       "    }\n",
       "</style>\n",
       "<table border=\"1\" class=\"dataframe\">\n",
       "  <thead>\n",
       "    <tr style=\"text-align: right;\">\n",
       "      <th></th>\n",
       "      <th>open</th>\n",
       "      <th>high</th>\n",
       "      <th>low</th>\n",
       "      <th>close</th>\n",
       "      <th>volume</th>\n",
       "      <th>trade_count</th>\n",
       "      <th>vwap</th>\n",
       "    </tr>\n",
       "  </thead>\n",
       "  <tbody>\n",
       "    <tr>\n",
       "      <th>0</th>\n",
       "      <td>3.230217</td>\n",
       "      <td>3.114700</td>\n",
       "      <td>3.236637</td>\n",
       "      <td>3.282115</td>\n",
       "      <td>-0.326388</td>\n",
       "      <td>0.809768</td>\n",
       "      <td>3.194762</td>\n",
       "    </tr>\n",
       "    <tr>\n",
       "      <th>1</th>\n",
       "      <td>3.268630</td>\n",
       "      <td>3.189574</td>\n",
       "      <td>3.252447</td>\n",
       "      <td>3.251254</td>\n",
       "      <td>-0.062726</td>\n",
       "      <td>1.157147</td>\n",
       "      <td>3.196758</td>\n",
       "    </tr>\n",
       "    <tr>\n",
       "      <th>2</th>\n",
       "      <td>3.191805</td>\n",
       "      <td>3.082579</td>\n",
       "      <td>2.983688</td>\n",
       "      <td>2.826914</td>\n",
       "      <td>0.724010</td>\n",
       "      <td>2.066417</td>\n",
       "      <td>3.008389</td>\n",
       "    </tr>\n",
       "    <tr>\n",
       "      <th>3</th>\n",
       "      <td>2.823042</td>\n",
       "      <td>2.837666</td>\n",
       "      <td>2.738644</td>\n",
       "      <td>2.826914</td>\n",
       "      <td>1.178808</td>\n",
       "      <td>2.850308</td>\n",
       "      <td>2.811788</td>\n",
       "    </tr>\n",
       "    <tr>\n",
       "      <th>4</th>\n",
       "      <td>2.961328</td>\n",
       "      <td>2.994901</td>\n",
       "      <td>2.999498</td>\n",
       "      <td>2.888637</td>\n",
       "      <td>-0.026787</td>\n",
       "      <td>1.157541</td>\n",
       "      <td>2.951844</td>\n",
       "    </tr>\n",
       "    <tr>\n",
       "      <th>...</th>\n",
       "      <td>...</td>\n",
       "      <td>...</td>\n",
       "      <td>...</td>\n",
       "      <td>...</td>\n",
       "      <td>...</td>\n",
       "      <td>...</td>\n",
       "      <td>...</td>\n",
       "    </tr>\n",
       "    <tr>\n",
       "      <th>511</th>\n",
       "      <td>-1.371634</td>\n",
       "      <td>-1.407688</td>\n",
       "      <td>-1.367984</td>\n",
       "      <td>-1.370193</td>\n",
       "      <td>-0.809850</td>\n",
       "      <td>-0.823411</td>\n",
       "      <td>-1.381475</td>\n",
       "    </tr>\n",
       "    <tr>\n",
       "      <th>512</th>\n",
       "      <td>-1.340904</td>\n",
       "      <td>-1.355277</td>\n",
       "      <td>-1.312493</td>\n",
       "      <td>-1.331617</td>\n",
       "      <td>-0.737359</td>\n",
       "      <td>-0.886643</td>\n",
       "      <td>-1.339053</td>\n",
       "    </tr>\n",
       "    <tr>\n",
       "      <th>513</th>\n",
       "      <td>-1.333221</td>\n",
       "      <td>-1.329071</td>\n",
       "      <td>-1.312493</td>\n",
       "      <td>-1.300756</td>\n",
       "      <td>0.246341</td>\n",
       "      <td>-0.496815</td>\n",
       "      <td>-1.303813</td>\n",
       "    </tr>\n",
       "    <tr>\n",
       "      <th>514</th>\n",
       "      <td>-1.164205</td>\n",
       "      <td>-1.220503</td>\n",
       "      <td>-1.110925</td>\n",
       "      <td>-1.169596</td>\n",
       "      <td>-1.596929</td>\n",
       "      <td>-1.786162</td>\n",
       "      <td>-1.191358</td>\n",
       "    </tr>\n",
       "    <tr>\n",
       "      <th>515</th>\n",
       "      <td>-1.148840</td>\n",
       "      <td>-1.201785</td>\n",
       "      <td>-1.158353</td>\n",
       "      <td>-1.200457</td>\n",
       "      <td>-1.094770</td>\n",
       "      <td>-1.326603</td>\n",
       "      <td>-1.183844</td>\n",
       "    </tr>\n",
       "  </tbody>\n",
       "</table>\n",
       "<p>516 rows × 7 columns</p>\n",
       "</div>"
      ],
      "text/plain": [
       "         open      high       low     close    volume  trade_count      vwap\n",
       "0    3.230217  3.114700  3.236637  3.282115 -0.326388     0.809768  3.194762\n",
       "1    3.268630  3.189574  3.252447  3.251254 -0.062726     1.157147  3.196758\n",
       "2    3.191805  3.082579  2.983688  2.826914  0.724010     2.066417  3.008389\n",
       "3    2.823042  2.837666  2.738644  2.826914  1.178808     2.850308  2.811788\n",
       "4    2.961328  2.994901  2.999498  2.888637 -0.026787     1.157541  2.951844\n",
       "..        ...       ...       ...       ...       ...          ...       ...\n",
       "511 -1.371634 -1.407688 -1.367984 -1.370193 -0.809850    -0.823411 -1.381475\n",
       "512 -1.340904 -1.355277 -1.312493 -1.331617 -0.737359    -0.886643 -1.339053\n",
       "513 -1.333221 -1.329071 -1.312493 -1.300756  0.246341    -0.496815 -1.303813\n",
       "514 -1.164205 -1.220503 -1.110925 -1.169596 -1.596929    -1.786162 -1.191358\n",
       "515 -1.148840 -1.201785 -1.158353 -1.200457 -1.094770    -1.326603 -1.183844\n",
       "\n",
       "[516 rows x 7 columns]"
      ]
     },
     "execution_count": 6,
     "metadata": {},
     "output_type": "execute_result"
    }
   ],
   "source": [
    "X"
   ]
  },
  {
   "cell_type": "code",
   "execution_count": 7,
   "metadata": {},
   "outputs": [
    {
     "data": {
      "text/plain": [
       "0      0.015809\n",
       "1     -0.268758\n",
       "2     -0.245044\n",
       "3      0.260854\n",
       "4     -0.229235\n",
       "         ...   \n",
       "511    0.055491\n",
       "512    0.000000\n",
       "513    0.201569\n",
       "514   -0.047428\n",
       "515         NaN\n",
       "Name: low, Length: 516, dtype: float64"
      ]
     },
     "execution_count": 7,
     "metadata": {},
     "output_type": "execute_result"
    }
   ],
   "source": [
    "y"
   ]
  },
  {
   "cell_type": "code",
   "execution_count": 8,
   "metadata": {},
   "outputs": [
    {
     "name": "stderr",
     "output_type": "stream",
     "text": [
      "2025-07-20 16:01:17.894404: I tensorflow/core/util/port.cc:153] oneDNN custom operations are on. You may see slightly different numerical results due to floating-point round-off errors from different computation orders. To turn them off, set the environment variable `TF_ENABLE_ONEDNN_OPTS=0`.\n",
      "2025-07-20 16:01:17.902712: E external/local_xla/xla/stream_executor/cuda/cuda_fft.cc:467] Unable to register cuFFT factory: Attempting to register factory for plugin cuFFT when one has already been registered\n",
      "WARNING: All log messages before absl::InitializeLog() is called are written to STDERR\n",
      "E0000 00:00:1753045277.911866  130454 cuda_dnn.cc:8579] Unable to register cuDNN factory: Attempting to register factory for plugin cuDNN when one has already been registered\n",
      "E0000 00:00:1753045277.915034  130454 cuda_blas.cc:1407] Unable to register cuBLAS factory: Attempting to register factory for plugin cuBLAS when one has already been registered\n",
      "W0000 00:00:1753045277.922038  130454 computation_placer.cc:177] computation placer already registered. Please check linkage and avoid linking the same target more than once.\n",
      "W0000 00:00:1753045277.922053  130454 computation_placer.cc:177] computation placer already registered. Please check linkage and avoid linking the same target more than once.\n",
      "W0000 00:00:1753045277.922054  130454 computation_placer.cc:177] computation placer already registered. Please check linkage and avoid linking the same target more than once.\n",
      "W0000 00:00:1753045277.922054  130454 computation_placer.cc:177] computation placer already registered. Please check linkage and avoid linking the same target more than once.\n",
      "2025-07-20 16:01:17.924493: I tensorflow/core/platform/cpu_feature_guard.cc:210] This TensorFlow binary is optimized to use available CPU instructions in performance-critical operations.\n",
      "To enable the following instructions: AVX2 AVX_VNNI FMA, in other operations, rebuild TensorFlow with the appropriate compiler flags.\n",
      "I0000 00:00:1753045279.316235  130454 gpu_device.cc:2019] Created device /job:localhost/replica:0/task:0/device:GPU:0 with 9226 MB memory:  -> device: 0, name: NVIDIA GeForce RTX 3060, pci bus id: 0000:01:00.0, compute capability: 8.6\n",
      "I0000 00:00:1753045279.316579  130454 gpu_device.cc:2019] Created device /job:localhost/replica:0/task:0/device:GPU:1 with 4723 MB memory:  -> device: 1, name: NVIDIA GeForce GTX 1660 SUPER, pci bus id: 0000:06:00.0, compute capability: 7.5\n",
      "/mnt/Data/Repos/clique-ml/.cuda/lib/python3.10/site-packages/keras/src/layers/core/dense.py:93: UserWarning: Do not pass an `input_shape`/`input_dim` argument to a layer. When using Sequential models, prefer using an `Input(shape)` object as the first layer in the model instead.\n",
      "  super().__init__(activity_regularizer=activity_regularizer, **kwargs)\n"
     ]
    }
   ],
   "source": [
    "import xgboost as xgb\n",
    "import lightgbm as lgb\n",
    "import catboost as cat\n",
    "import tensorflow as tf\n",
    "layers = tf.keras.layers\n",
    "Sequential = tf.keras.Sequential\n",
    "\n",
    "N_FEATURES = len(X.columns)\n",
    "ACTIVATION_1 = 'tanh' # inputs are standardized (vs normalized) so keep negative range\n",
    "ACTIVATION_2 = 'relu' # performed better than tanh, sigmoid\n",
    "DROPOUT = 0.5         # performed better than 0.3, 0.4\n",
    "RANDOM_SEED = 25      # even funnier that 24\n",
    "\n",
    "tf.keras.utils.set_random_seed(RANDOM_SEED)\n",
    "shared_kw = dict(random_state=RANDOM_SEED, learning_rate=0.2, max_depth=3, subsample=0.8)\n",
    "xgb_lgb_kw = dict(n_jobs=16, colsample_bytree=0.85, reg_alpha=500)\n",
    "xgb_cat_kw = dict(early_stopping_rounds=5)\n",
    "lgb_cat_kw = dict(num_leaves=8, min_child_samples=2000)\n",
    "regularizer = tf.keras.regularizers.l1(0.001)\n",
    "\n",
    "models = [ # order matters if limit is set; frontloading stronger models will cause more rejections; the reverse will oversaturate\n",
    "    xgb.XGBRegressor(**shared_kw, **xgb_lgb_kw, **xgb_cat_kw, eval_metric='mae', tree_method='hist', gamma=0.2),\n",
    "    lgb.LGBMRegressor(**shared_kw, **xgb_lgb_kw, **lgb_cat_kw, early_stopping_round=5, metric='l1', min_split_gain=0.001, verbosity=-1),\n",
    "    cat.CatBoostRegressor(**shared_kw, **xgb_cat_kw, **lgb_cat_kw, eval_metric='MAE'),\n",
    "    Sequential([layers.Dense(1, activation=ACTIVATION_1, input_shape=[N_FEATURES])], name='linear'), # N -> 1\n",
    "    Sequential([ # N -> N/2 -> 1\n",
    "        layers.Dense(N_FEATURES, kernel_regularizer=regularizer, activation=ACTIVATION_1, input_shape=[N_FEATURES]),\n",
    "        layers.Dropout(DROPOUT),\n",
    "        layers.BatchNormalization(),\n",
    "        layers.Dense(N_FEATURES//2, kernel_regularizer=regularizer, activation=ACTIVATION_2),\n",
    "        layers.Dropout(DROPOUT),\n",
    "        layers.BatchNormalization(),\n",
    "        layers.Dense(1)\n",
    "    ], name='net'),\n",
    "]"
   ]
  },
  {
   "cell_type": "code",
   "execution_count": 9,
   "metadata": {},
   "outputs": [
    {
     "data": {
      "text/plain": [
       "<Clique (5 model(s); limit: none)>"
      ]
     },
     "execution_count": 9,
     "metadata": {},
     "output_type": "execute_result"
    }
   ],
   "source": [
    "import clique\n",
    "cutoff = int(len(X)*0.8) # 80/20 train/test split\n",
    "training_inputs, testing_inputs = X[:cutoff], X[cutoff:-1]\n",
    "training_targets, testing_targets = y[:cutoff], y[cutoff:-1]\n",
    "ensemble = clique.Clique(models=models, inputs=testing_inputs, targets=testing_targets)\n",
    "ensemble"
   ]
  },
  {
   "cell_type": "code",
   "execution_count": 10,
   "metadata": {},
   "outputs": [],
   "source": [
    "# ensemble.load('.models/')"
   ]
  },
  {
   "cell_type": "code",
   "execution_count": 11,
   "metadata": {},
   "outputs": [
    {
     "name": "stdout",
     "output_type": "stream",
     "text": [
      "Training ensemble on fold 1\n"
     ]
    },
    {
     "name": "stderr",
     "output_type": "stream",
     "text": [
      "WARNING: All log messages before absl::InitializeLog() is called are written to STDERR\n",
      "I0000 00:00:1753045280.001505  130602 service.cc:152] XLA service 0x78bb0c005180 initialized for platform CUDA (this does not guarantee that XLA will be used). Devices:\n",
      "I0000 00:00:1753045280.001520  130602 service.cc:160]   StreamExecutor device (0): NVIDIA GeForce RTX 3060, Compute Capability 8.6\n",
      "I0000 00:00:1753045280.001522  130602 service.cc:160]   StreamExecutor device (1): NVIDIA GeForce GTX 1660 SUPER, Compute Capability 7.5\n",
      "2025-07-20 16:01:20.008741: I tensorflow/compiler/mlir/tensorflow/utils/dump_mlir_util.cc:269] disabling MLIR crash reproducer, set env var `MLIR_CRASH_REPRODUCER_DIRECTORY` to enable.\n",
      "I0000 00:00:1753045280.032379  130602 cuda_dnn.cc:529] Loaded cuDNN version 90300\n",
      "I0000 00:00:1753045280.161912  130602 device_compiler.h:188] Compiled cluster using XLA!  This line is logged at most once for the lifetime of the process.\n"
     ]
    },
    {
     "name": "stdout",
     "output_type": "stream",
     "text": [
      "Training ensemble on fold 2\n",
      "Training ensemble on fold 3\n",
      "Training ensemble on fold 4\n",
      "Training ensemble on fold 5\n"
     ]
    }
   ],
   "source": [
    "import gc\n",
    "from sklearn.model_selection import TimeSeriesSplit\n",
    "for fold, (training, validation) in enumerate(TimeSeriesSplit().split(training_inputs)):\n",
    "    print(f'Training ensemble on fold {fold+1}')\n",
    "    val_data = [(training_inputs.iloc[validation, :], training_targets.iloc[validation])]\n",
    "    for model in ensemble:\n",
    "        fit_kw = dict()\n",
    "        predict_kw = dict()\n",
    "        match model.model_type:\n",
    "            case 'Sequential' | 'Model':\n",
    "                if fold == 0: model.compile(optimizer='adam', loss='mae')\n",
    "                keras_kw = dict(verbose=0, batch_size=256)\n",
    "                fit_kw.update(keras_kw)\n",
    "                predict_kw.update(keras_kw)\n",
    "            case 'LGBMRegressor':\n",
    "                fit_kw.update(dict(eval_set=val_data, eval_metric='l1'))\n",
    "            case 'XGBRegressor' | 'CatBoostRegressor':\n",
    "                fit_kw.update(dict(verbose=0, eval_set=val_data))\n",
    "        model.fit_kw = fit_kw\n",
    "        model.predict_kw = predict_kw\n",
    "    ensemble.fit(training_inputs.iloc[training, :], training_targets.iloc[training])\n",
    "    del val_data\n",
    "    while gc.collect() > 0: pass"
   ]
  },
  {
   "cell_type": "code",
   "execution_count": 12,
   "metadata": {},
   "outputs": [
    {
     "data": {
      "text/plain": [
       "0.2480253010157111"
      ]
     },
     "execution_count": 12,
     "metadata": {},
     "output_type": "execute_result"
    }
   ],
   "source": [
    "predictions = ensemble.predict(testing_inputs)\n",
    "performance = ensemble.scoring(testing_targets, predictions)\n",
    "performance"
   ]
  },
  {
   "cell_type": "code",
   "execution_count": 13,
   "metadata": {},
   "outputs": [
    {
     "data": {
      "text/plain": [
       "<Clique (5 model(s); limit: none)>"
      ]
     },
     "execution_count": 13,
     "metadata": {},
     "output_type": "execute_result"
    }
   ],
   "source": [
    "ensemble.evaluate()"
   ]
  },
  {
   "cell_type": "code",
   "execution_count": 14,
   "metadata": {},
   "outputs": [
    {
     "data": {
      "text/plain": [
       "0.29060288085907704"
      ]
     },
     "execution_count": 14,
     "metadata": {},
     "output_type": "execute_result"
    }
   ],
   "source": [
    "ensemble.mean_score"
   ]
  },
  {
   "cell_type": "code",
   "execution_count": 15,
   "metadata": {},
   "outputs": [
    {
     "data": {
      "text/plain": [
       "0.07976239276254381"
      ]
     },
     "execution_count": 15,
     "metadata": {},
     "output_type": "execute_result"
    }
   ],
   "source": [
    "ensemble.best_score"
   ]
  },
  {
   "cell_type": "code",
   "execution_count": 16,
   "metadata": {},
   "outputs": [
    {
     "data": {
      "text/plain": [
       "<ModelProfile (CatBoostRegressor)>"
      ]
     },
     "execution_count": 16,
     "metadata": {},
     "output_type": "execute_result"
    }
   ],
   "source": [
    "ensemble.best_model"
   ]
  },
  {
   "cell_type": "code",
   "execution_count": 17,
   "metadata": {},
   "outputs": [
    {
     "data": {
      "text/plain": [
       "<Clique (5 model(s); limit: none)>"
      ]
     },
     "execution_count": 17,
     "metadata": {},
     "output_type": "execute_result"
    }
   ],
   "source": [
    "ensemble.save('.models/')"
   ]
  },
  {
   "cell_type": "code",
   "execution_count": 18,
   "metadata": {},
   "outputs": [
    {
     "name": "stdout",
     "output_type": "stream",
     "text": [
      "\u001b[1m4/4\u001b[0m \u001b[32m━━━━━━━━━━━━━━━━━━━━\u001b[0m\u001b[37m\u001b[0m \u001b[1m0s\u001b[0m 42ms/step\n",
      "WARNING:tensorflow:5 out of the last 9 calls to <function TensorFlowTrainer.make_predict_function.<locals>.one_step_on_data_distributed at 0x78bc47f8eb00> triggered tf.function retracing. Tracing is expensive and the excessive number of tracings could be due to (1) creating @tf.function repeatedly in a loop, (2) passing tensors with different shapes, (3) passing Python objects instead of tensors. For (1), please define your @tf.function outside of the loop. For (2), @tf.function has reduce_retracing=True option that can avoid unnecessary retracing. For (3), please refer to https://www.tensorflow.org/guide/function#controlling_retracing and https://www.tensorflow.org/api_docs/python/tf/function for  more details.\n",
      "\u001b[1m1/4\u001b[0m \u001b[32m━━━━━\u001b[0m\u001b[37m━━━━━━━━━━━━━━━\u001b[0m \u001b[1m0s\u001b[0m 81ms/stepWARNING:tensorflow:5 out of the last 11 calls to <function TensorFlowTrainer.make_predict_function.<locals>.one_step_on_data_distributed at 0x78bc47f8eb00> triggered tf.function retracing. Tracing is expensive and the excessive number of tracings could be due to (1) creating @tf.function repeatedly in a loop, (2) passing tensors with different shapes, (3) passing Python objects instead of tensors. For (1), please define your @tf.function outside of the loop. For (2), @tf.function has reduce_retracing=True option that can avoid unnecessary retracing. For (3), please refer to https://www.tensorflow.org/guide/function#controlling_retracing and https://www.tensorflow.org/api_docs/python/tf/function for  more details.\n",
      "\u001b[1m4/4\u001b[0m \u001b[32m━━━━━━━━━━━━━━━━━━━━\u001b[0m\u001b[37m\u001b[0m \u001b[1m0s\u001b[0m 27ms/step\n",
      "\u001b[1m4/4\u001b[0m \u001b[32m━━━━━━━━━━━━━━━━━━━━\u001b[0m\u001b[37m\u001b[0m \u001b[1m0s\u001b[0m 4ms/step \n"
     ]
    },
    {
     "data": {
      "text/plain": [
       "<Clique (3 model(s); limit: 3)>"
      ]
     },
     "execution_count": 18,
     "metadata": {},
     "output_type": "execute_result"
    }
   ],
   "source": [
    "exclusive = clique.Clique(models='.models/', limit=3, inputs=testing_inputs, targets=testing_targets).evaluate().prune()\n",
    "exclusive"
   ]
  },
  {
   "cell_type": "code",
   "execution_count": 19,
   "metadata": {},
   "outputs": [
    {
     "data": {
      "text/plain": [
       "0.07976239276254381"
      ]
     },
     "execution_count": 19,
     "metadata": {},
     "output_type": "execute_result"
    }
   ],
   "source": [
    "exclusive.best_score"
   ]
  },
  {
   "cell_type": "code",
   "execution_count": 20,
   "metadata": {},
   "outputs": [
    {
     "data": {
      "text/plain": [
       "<ModelProfile (CatBoostRegressor)>"
      ]
     },
     "execution_count": 20,
     "metadata": {},
     "output_type": "execute_result"
    }
   ],
   "source": [
    "exclusive.best_model"
   ]
  },
  {
   "cell_type": "code",
   "execution_count": 21,
   "metadata": {},
   "outputs": [
    {
     "ename": "EvaluationError",
     "evalue": "Cannot evaluate models before they are trained. Call `fit` first.",
     "output_type": "error",
     "traceback": [
      "\u001b[0;31m---------------------------------------------------------------------------\u001b[0m",
      "\u001b[0;31mEvaluationError\u001b[0m                           Traceback (most recent call last)",
      "Cell \u001b[0;32mIn[21], line 2\u001b[0m\n\u001b[1;32m      1\u001b[0m clique\u001b[38;5;241m.\u001b[39mClique(models\u001b[38;5;241m=\u001b[39mmodels)\u001b[38;5;241m.\u001b[39msave(\u001b[38;5;124m'\u001b[39m\u001b[38;5;124m.untrained/\u001b[39m\u001b[38;5;124m'\u001b[39m)\n\u001b[0;32m----> 2\u001b[0m \u001b[43mclique\u001b[49m\u001b[38;5;241;43m.\u001b[39;49m\u001b[43mClique\u001b[49m\u001b[43m(\u001b[49m\u001b[43mmodels\u001b[49m\u001b[38;5;241;43m=\u001b[39;49m\u001b[38;5;124;43m'\u001b[39;49m\u001b[38;5;124;43m.untrained/\u001b[39;49m\u001b[38;5;124;43m'\u001b[39;49m\u001b[43m)\u001b[49m\u001b[38;5;241;43m.\u001b[39;49m\u001b[43mevaluate\u001b[49m\u001b[43m(\u001b[49m\u001b[43m)\u001b[49m \u001b[38;5;66;03m# EvaluationError\u001b[39;00m\n",
      "File \u001b[0;32m/mnt/Data/Repos/clique-ml/src/clique/clique.py:269\u001b[0m, in \u001b[0;36mClique.evaluate\u001b[0;34m(self)\u001b[0m\n\u001b[1;32m    263\u001b[0m \u001b[38;5;28;01mdef\u001b[39;00m\u001b[38;5;250m \u001b[39m\u001b[38;5;21mevaluate\u001b[39m(\u001b[38;5;28mself\u001b[39m) \u001b[38;5;241m-\u001b[39m\u001b[38;5;241m>\u001b[39m Self:\n\u001b[1;32m    264\u001b[0m \u001b[38;5;250m    \u001b[39m\u001b[38;5;124;03m'''\u001b[39;00m\n\u001b[1;32m    265\u001b[0m \u001b[38;5;124;03m    Scores all of the models in the ensemble against the ensemble's testing data and scoring function.\u001b[39;00m\n\u001b[1;32m    266\u001b[0m \u001b[38;5;124;03m    Raises an error if the test data has not been set, or the scoring function is not configured properly.\u001b[39;00m\n\u001b[1;32m    267\u001b[0m \u001b[38;5;124;03m    Returns the instance for method chaining.\u001b[39;00m\n\u001b[1;32m    268\u001b[0m \u001b[38;5;124;03m    '''\u001b[39;00m\n\u001b[0;32m--> 269\u001b[0m     \u001b[38;5;28;01mif\u001b[39;00m \u001b[38;5;129;01mnot\u001b[39;00m \u001b[38;5;28mself\u001b[39m\u001b[38;5;241m.\u001b[39mcan_evaluate: \u001b[38;5;28;01mraise\u001b[39;00m EvaluationError(\u001b[38;5;124m'\u001b[39m\u001b[38;5;124mCannot evaluate models before they are trained. Call `fit` first.\u001b[39m\u001b[38;5;124m'\u001b[39m)\n\u001b[1;32m    270\u001b[0m     \u001b[38;5;28;01mif\u001b[39;00m \u001b[38;5;28mself\u001b[39m\u001b[38;5;241m.\u001b[39minputs \u001b[38;5;129;01mis\u001b[39;00m \u001b[38;5;28;01mNone\u001b[39;00m \u001b[38;5;129;01mor\u001b[39;00m \u001b[38;5;28mself\u001b[39m\u001b[38;5;241m.\u001b[39mtargets \u001b[38;5;129;01mis\u001b[39;00m \u001b[38;5;28;01mNone\u001b[39;00m: \u001b[38;5;28;01mraise\u001b[39;00m EvaluationError(\u001b[38;5;124m'\u001b[39m\u001b[38;5;124mTesting inputs and targets have not been defined.\u001b[39m\u001b[38;5;124m'\u001b[39m)\n\u001b[1;32m    271\u001b[0m     \u001b[38;5;28;01mfor\u001b[39;00m model \u001b[38;5;129;01min\u001b[39;00m \u001b[38;5;28mself\u001b[39m: model\u001b[38;5;241m.\u001b[39mscore \u001b[38;5;241m=\u001b[39m \u001b[38;5;28mself\u001b[39m\u001b[38;5;241m.\u001b[39mscoring(\u001b[38;5;28mself\u001b[39m\u001b[38;5;241m.\u001b[39mtargets, model\u001b[38;5;241m.\u001b[39mpredict(\u001b[38;5;28mself\u001b[39m\u001b[38;5;241m.\u001b[39minputs))\n",
      "\u001b[0;31mEvaluationError\u001b[0m: Cannot evaluate models before they are trained. Call `fit` first."
     ]
    }
   ],
   "source": [
    "clique.Clique(models=models).save('.untrained/')\n",
    "clique.Clique(models='.untrained/').evaluate() # EvaluationError"
   ]
  },
  {
   "cell_type": "code",
   "execution_count": null,
   "metadata": {},
   "outputs": [],
   "source": []
  }
 ],
 "metadata": {
  "kernelspec": {
   "display_name": ".cuda",
   "language": "python",
   "name": "python3"
  },
  "language_info": {
   "codemirror_mode": {
    "name": "ipython",
    "version": 3
   },
   "file_extension": ".py",
   "mimetype": "text/x-python",
   "name": "python",
   "nbconvert_exporter": "python",
   "pygments_lexer": "ipython3",
   "version": "3.10.12"
  }
 },
 "nbformat": 4,
 "nbformat_minor": 2
}

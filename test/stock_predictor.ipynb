{
 "cells": [
  {
   "cell_type": "markdown",
   "metadata": {},
   "source": [
    "This is a watered-down version of project 4 from the [fintech bootcamp at home](https://github.com/whitgroves/fintech-bootcamp-at-home) used with some models from my [optiver Kaggle submission](https://github.com/whitgroves/optiver-trading-at-the-close) to test the ensemble's performance. Feel free to treat this as a setup guide if you need an example and/or use case."
   ]
  },
  {
   "cell_type": "code",
   "execution_count": 1,
   "metadata": {},
   "outputs": [
    {
     "name": "stdout",
     "output_type": "stream",
     "text": [
      "/mnt/Data/Repos/clique-ml/.cuda/bin:/usr/local/cuda/bin:/home/whitgroves/.local/bin:/usr/local/cuda/bin:/home/whitgroves/.local/bin:/usr/local/cuda/bin:/home/whitgroves/.local/bin:/usr/local/sbin:/usr/local/bin:/usr/sbin:/usr/bin:/sbin:/bin:/usr/games:/usr/local/games:/snap/bin:/snap/bin\n"
     ]
    }
   ],
   "source": [
    "!echo $PATH # if /usr/local/cuda/bin is missing, re-run VScode form terminal"
   ]
  },
  {
   "cell_type": "code",
   "execution_count": 2,
   "metadata": {},
   "outputs": [
    {
     "name": "stdout",
     "output_type": "stream",
     "text": [
      "ptxas: NVIDIA (R) Ptx optimizing assembler\n",
      "Copyright (c) 2005-2023 NVIDIA Corporation\n",
      "Built on Tue_Jun_13_19:13:58_PDT_2023\n",
      "Cuda compilation tools, release 12.2, V12.2.91\n",
      "Build cuda_12.2.r12.2/compiler.32965470_0\n"
     ]
    }
   ],
   "source": [
    "!ptxas --version # expecting 12.2"
   ]
  },
  {
   "cell_type": "code",
   "execution_count": 3,
   "metadata": {},
   "outputs": [
    {
     "data": {
      "text/html": [
       "<div>\n",
       "<style scoped>\n",
       "    .dataframe tbody tr th:only-of-type {\n",
       "        vertical-align: middle;\n",
       "    }\n",
       "\n",
       "    .dataframe tbody tr th {\n",
       "        vertical-align: top;\n",
       "    }\n",
       "\n",
       "    .dataframe thead th {\n",
       "        text-align: right;\n",
       "    }\n",
       "</style>\n",
       "<table border=\"1\" class=\"dataframe\">\n",
       "  <thead>\n",
       "    <tr style=\"text-align: right;\">\n",
       "      <th></th>\n",
       "      <th>symbol</th>\n",
       "      <th>timestamp</th>\n",
       "      <th>open</th>\n",
       "      <th>high</th>\n",
       "      <th>low</th>\n",
       "      <th>close</th>\n",
       "      <th>volume</th>\n",
       "      <th>trade_count</th>\n",
       "      <th>vwap</th>\n",
       "    </tr>\n",
       "  </thead>\n",
       "  <tbody>\n",
       "    <tr>\n",
       "      <th>1032</th>\n",
       "      <td>SPCE</td>\n",
       "      <td>2022-01-03 05:00:00+00:00</td>\n",
       "      <td>13.48</td>\n",
       "      <td>13.7350</td>\n",
       "      <td>12.890</td>\n",
       "      <td>13.5400</td>\n",
       "      <td>12819868.0</td>\n",
       "      <td>78293.0</td>\n",
       "      <td>13.361041</td>\n",
       "    </tr>\n",
       "    <tr>\n",
       "      <th>1033</th>\n",
       "      <td>SPCE</td>\n",
       "      <td>2022-01-04 05:00:00+00:00</td>\n",
       "      <td>13.64</td>\n",
       "      <td>13.6499</td>\n",
       "      <td>12.895</td>\n",
       "      <td>13.2100</td>\n",
       "      <td>13109366.0</td>\n",
       "      <td>80434.0</td>\n",
       "      <td>13.104721</td>\n",
       "    </tr>\n",
       "    <tr>\n",
       "      <th>1034</th>\n",
       "      <td>SPCE</td>\n",
       "      <td>2022-01-05 05:00:00+00:00</td>\n",
       "      <td>13.02</td>\n",
       "      <td>13.3300</td>\n",
       "      <td>11.980</td>\n",
       "      <td>12.0500</td>\n",
       "      <td>17112567.0</td>\n",
       "      <td>117267.0</td>\n",
       "      <td>12.503853</td>\n",
       "    </tr>\n",
       "    <tr>\n",
       "      <th>1035</th>\n",
       "      <td>SPCE</td>\n",
       "      <td>2022-01-06 05:00:00+00:00</td>\n",
       "      <td>12.17</td>\n",
       "      <td>12.3464</td>\n",
       "      <td>11.300</td>\n",
       "      <td>11.7800</td>\n",
       "      <td>16410751.0</td>\n",
       "      <td>101101.0</td>\n",
       "      <td>11.860575</td>\n",
       "    </tr>\n",
       "    <tr>\n",
       "      <th>1036</th>\n",
       "      <td>SPCE</td>\n",
       "      <td>2022-01-07 05:00:00+00:00</td>\n",
       "      <td>12.00</td>\n",
       "      <td>12.8050</td>\n",
       "      <td>11.920</td>\n",
       "      <td>12.4500</td>\n",
       "      <td>16331824.0</td>\n",
       "      <td>97612.0</td>\n",
       "      <td>12.506667</td>\n",
       "    </tr>\n",
       "    <tr>\n",
       "      <th>...</th>\n",
       "      <td>...</td>\n",
       "      <td>...</td>\n",
       "      <td>...</td>\n",
       "      <td>...</td>\n",
       "      <td>...</td>\n",
       "      <td>...</td>\n",
       "      <td>...</td>\n",
       "      <td>...</td>\n",
       "      <td>...</td>\n",
       "    </tr>\n",
       "    <tr>\n",
       "      <th>1543</th>\n",
       "      <td>SPCE</td>\n",
       "      <td>2024-01-17 05:00:00+00:00</td>\n",
       "      <td>1.90</td>\n",
       "      <td>1.9700</td>\n",
       "      <td>1.870</td>\n",
       "      <td>1.9600</td>\n",
       "      <td>8085803.0</td>\n",
       "      <td>28004.0</td>\n",
       "      <td>1.934658</td>\n",
       "    </tr>\n",
       "    <tr>\n",
       "      <th>1544</th>\n",
       "      <td>SPCE</td>\n",
       "      <td>2024-01-18 05:00:00+00:00</td>\n",
       "      <td>2.00</td>\n",
       "      <td>2.0199</td>\n",
       "      <td>1.900</td>\n",
       "      <td>1.9400</td>\n",
       "      <td>6972790.0</td>\n",
       "      <td>18103.0</td>\n",
       "      <td>1.952433</td>\n",
       "    </tr>\n",
       "    <tr>\n",
       "      <th>1545</th>\n",
       "      <td>SPCE</td>\n",
       "      <td>2024-01-19 05:00:00+00:00</td>\n",
       "      <td>1.96</td>\n",
       "      <td>1.9600</td>\n",
       "      <td>1.820</td>\n",
       "      <td>1.9200</td>\n",
       "      <td>9586535.0</td>\n",
       "      <td>25767.0</td>\n",
       "      <td>1.887089</td>\n",
       "    </tr>\n",
       "    <tr>\n",
       "      <th>1546</th>\n",
       "      <td>SPCE</td>\n",
       "      <td>2024-01-22 05:00:00+00:00</td>\n",
       "      <td>2.05</td>\n",
       "      <td>2.0500</td>\n",
       "      <td>2.050</td>\n",
       "      <td>2.0500</td>\n",
       "      <td>11828.0</td>\n",
       "      <td>60.0</td>\n",
       "      <td>2.055300</td>\n",
       "    </tr>\n",
       "    <tr>\n",
       "      <th>1547</th>\n",
       "      <td>SPCE</td>\n",
       "      <td>2024-01-23 05:00:00+00:00</td>\n",
       "      <td>2.10</td>\n",
       "      <td>2.1600</td>\n",
       "      <td>2.060</td>\n",
       "      <td>2.0799</td>\n",
       "      <td>3917529.0</td>\n",
       "      <td>12111.0</td>\n",
       "      <td>2.106194</td>\n",
       "    </tr>\n",
       "  </tbody>\n",
       "</table>\n",
       "<p>516 rows × 9 columns</p>\n",
       "</div>"
      ],
      "text/plain": [
       "     symbol                  timestamp   open     high     low    close  \\\n",
       "1032   SPCE  2022-01-03 05:00:00+00:00  13.48  13.7350  12.890  13.5400   \n",
       "1033   SPCE  2022-01-04 05:00:00+00:00  13.64  13.6499  12.895  13.2100   \n",
       "1034   SPCE  2022-01-05 05:00:00+00:00  13.02  13.3300  11.980  12.0500   \n",
       "1035   SPCE  2022-01-06 05:00:00+00:00  12.17  12.3464  11.300  11.7800   \n",
       "1036   SPCE  2022-01-07 05:00:00+00:00  12.00  12.8050  11.920  12.4500   \n",
       "...     ...                        ...    ...      ...     ...      ...   \n",
       "1543   SPCE  2024-01-17 05:00:00+00:00   1.90   1.9700   1.870   1.9600   \n",
       "1544   SPCE  2024-01-18 05:00:00+00:00   2.00   2.0199   1.900   1.9400   \n",
       "1545   SPCE  2024-01-19 05:00:00+00:00   1.96   1.9600   1.820   1.9200   \n",
       "1546   SPCE  2024-01-22 05:00:00+00:00   2.05   2.0500   2.050   2.0500   \n",
       "1547   SPCE  2024-01-23 05:00:00+00:00   2.10   2.1600   2.060   2.0799   \n",
       "\n",
       "          volume  trade_count       vwap  \n",
       "1032  12819868.0      78293.0  13.361041  \n",
       "1033  13109366.0      80434.0  13.104721  \n",
       "1034  17112567.0     117267.0  12.503853  \n",
       "1035  16410751.0     101101.0  11.860575  \n",
       "1036  16331824.0      97612.0  12.506667  \n",
       "...          ...          ...        ...  \n",
       "1543   8085803.0      28004.0   1.934658  \n",
       "1544   6972790.0      18103.0   1.952433  \n",
       "1545   9586535.0      25767.0   1.887089  \n",
       "1546     11828.0         60.0   2.055300  \n",
       "1547   3917529.0      12111.0   2.106194  \n",
       "\n",
       "[516 rows x 9 columns]"
      ]
     },
     "execution_count": 3,
     "metadata": {},
     "output_type": "execute_result"
    }
   ],
   "source": [
    "import pandas as pd\n",
    "import random as r\n",
    "\n",
    "df = pd.read_csv('./stock_bars.csv')\n",
    "df = df.loc[df.symbol == r.choice(df.symbol.unique())] # pick a single stock from the test data each time\n",
    "df"
   ]
  },
  {
   "cell_type": "code",
   "execution_count": 4,
   "metadata": {},
   "outputs": [
    {
     "data": {
      "text/html": [
       "<div>\n",
       "<style scoped>\n",
       "    .dataframe tbody tr th:only-of-type {\n",
       "        vertical-align: middle;\n",
       "    }\n",
       "\n",
       "    .dataframe tbody tr th {\n",
       "        vertical-align: top;\n",
       "    }\n",
       "\n",
       "    .dataframe thead th {\n",
       "        text-align: right;\n",
       "    }\n",
       "</style>\n",
       "<table border=\"1\" class=\"dataframe\">\n",
       "  <thead>\n",
       "    <tr style=\"text-align: right;\">\n",
       "      <th></th>\n",
       "      <th>symbol</th>\n",
       "      <th>timestamp</th>\n",
       "      <th>open</th>\n",
       "      <th>high</th>\n",
       "      <th>low</th>\n",
       "      <th>close</th>\n",
       "      <th>volume</th>\n",
       "      <th>trade_count</th>\n",
       "      <th>vwap</th>\n",
       "    </tr>\n",
       "  </thead>\n",
       "  <tbody>\n",
       "    <tr>\n",
       "      <th>1032</th>\n",
       "      <td>SPCE</td>\n",
       "      <td>2022-01-03 05:00:00+00:00</td>\n",
       "      <td>3.439862</td>\n",
       "      <td>3.346928</td>\n",
       "      <td>3.410052</td>\n",
       "      <td>3.474965</td>\n",
       "      <td>0.013214</td>\n",
       "      <td>0.622757</td>\n",
       "      <td>3.399282</td>\n",
       "    </tr>\n",
       "    <tr>\n",
       "      <th>1033</th>\n",
       "      <td>SPCE</td>\n",
       "      <td>2022-01-04 05:00:00+00:00</td>\n",
       "      <td>3.505648</td>\n",
       "      <td>3.313171</td>\n",
       "      <td>3.412192</td>\n",
       "      <td>3.339071</td>\n",
       "      <td>0.033379</td>\n",
       "      <td>0.666481</td>\n",
       "      <td>3.293718</td>\n",
       "    </tr>\n",
       "    <tr>\n",
       "      <th>1034</th>\n",
       "      <td>SPCE</td>\n",
       "      <td>2022-01-05 05:00:00+00:00</td>\n",
       "      <td>3.250727</td>\n",
       "      <td>3.186277</td>\n",
       "      <td>3.020571</td>\n",
       "      <td>2.861384</td>\n",
       "      <td>0.312218</td>\n",
       "      <td>1.418684</td>\n",
       "      <td>3.046252</td>\n",
       "    </tr>\n",
       "    <tr>\n",
       "      <th>1035</th>\n",
       "      <td>SPCE</td>\n",
       "      <td>2022-01-06 05:00:00+00:00</td>\n",
       "      <td>2.901237</td>\n",
       "      <td>2.796112</td>\n",
       "      <td>2.729530</td>\n",
       "      <td>2.750198</td>\n",
       "      <td>0.263334</td>\n",
       "      <td>1.088542</td>\n",
       "      <td>2.781320</td>\n",
       "    </tr>\n",
       "    <tr>\n",
       "      <th>1036</th>\n",
       "      <td>SPCE</td>\n",
       "      <td>2022-01-07 05:00:00+00:00</td>\n",
       "      <td>2.831339</td>\n",
       "      <td>2.978025</td>\n",
       "      <td>2.994891</td>\n",
       "      <td>3.026104</td>\n",
       "      <td>0.257836</td>\n",
       "      <td>1.017290</td>\n",
       "      <td>3.047411</td>\n",
       "    </tr>\n",
       "    <tr>\n",
       "      <th>...</th>\n",
       "      <td>...</td>\n",
       "      <td>...</td>\n",
       "      <td>...</td>\n",
       "      <td>...</td>\n",
       "      <td>...</td>\n",
       "      <td>...</td>\n",
       "      <td>...</td>\n",
       "      <td>...</td>\n",
       "      <td>...</td>\n",
       "    </tr>\n",
       "    <tr>\n",
       "      <th>1543</th>\n",
       "      <td>SPCE</td>\n",
       "      <td>2024-01-17 05:00:00+00:00</td>\n",
       "      <td>-1.321418</td>\n",
       "      <td>-1.319896</td>\n",
       "      <td>-1.306521</td>\n",
       "      <td>-1.293673</td>\n",
       "      <td>-0.316532</td>\n",
       "      <td>-0.404245</td>\n",
       "      <td>-1.306635</td>\n",
       "    </tr>\n",
       "    <tr>\n",
       "      <th>1544</th>\n",
       "      <td>SPCE</td>\n",
       "      <td>2024-01-18 05:00:00+00:00</td>\n",
       "      <td>-1.280302</td>\n",
       "      <td>-1.300103</td>\n",
       "      <td>-1.293681</td>\n",
       "      <td>-1.301909</td>\n",
       "      <td>-0.394058</td>\n",
       "      <td>-0.606444</td>\n",
       "      <td>-1.299315</td>\n",
       "    </tr>\n",
       "    <tr>\n",
       "      <th>1545</th>\n",
       "      <td>SPCE</td>\n",
       "      <td>2024-01-19 05:00:00+00:00</td>\n",
       "      <td>-1.296749</td>\n",
       "      <td>-1.323863</td>\n",
       "      <td>-1.327921</td>\n",
       "      <td>-1.310145</td>\n",
       "      <td>-0.212000</td>\n",
       "      <td>-0.449929</td>\n",
       "      <td>-1.326226</td>\n",
       "    </tr>\n",
       "    <tr>\n",
       "      <th>1546</th>\n",
       "      <td>SPCE</td>\n",
       "      <td>2024-01-22 05:00:00+00:00</td>\n",
       "      <td>-1.259744</td>\n",
       "      <td>-1.288163</td>\n",
       "      <td>-1.229480</td>\n",
       "      <td>-1.256611</td>\n",
       "      <td>-0.878917</td>\n",
       "      <td>-0.974918</td>\n",
       "      <td>-1.256949</td>\n",
       "    </tr>\n",
       "    <tr>\n",
       "      <th>1547</th>\n",
       "      <td>SPCE</td>\n",
       "      <td>2024-01-23 05:00:00+00:00</td>\n",
       "      <td>-1.239186</td>\n",
       "      <td>-1.244529</td>\n",
       "      <td>-1.225200</td>\n",
       "      <td>-1.244298</td>\n",
       "      <td>-0.606870</td>\n",
       "      <td>-0.728812</td>\n",
       "      <td>-1.235989</td>\n",
       "    </tr>\n",
       "  </tbody>\n",
       "</table>\n",
       "<p>516 rows × 9 columns</p>\n",
       "</div>"
      ],
      "text/plain": [
       "     symbol                  timestamp      open      high       low  \\\n",
       "1032   SPCE  2022-01-03 05:00:00+00:00  3.439862  3.346928  3.410052   \n",
       "1033   SPCE  2022-01-04 05:00:00+00:00  3.505648  3.313171  3.412192   \n",
       "1034   SPCE  2022-01-05 05:00:00+00:00  3.250727  3.186277  3.020571   \n",
       "1035   SPCE  2022-01-06 05:00:00+00:00  2.901237  2.796112  2.729530   \n",
       "1036   SPCE  2022-01-07 05:00:00+00:00  2.831339  2.978025  2.994891   \n",
       "...     ...                        ...       ...       ...       ...   \n",
       "1543   SPCE  2024-01-17 05:00:00+00:00 -1.321418 -1.319896 -1.306521   \n",
       "1544   SPCE  2024-01-18 05:00:00+00:00 -1.280302 -1.300103 -1.293681   \n",
       "1545   SPCE  2024-01-19 05:00:00+00:00 -1.296749 -1.323863 -1.327921   \n",
       "1546   SPCE  2024-01-22 05:00:00+00:00 -1.259744 -1.288163 -1.229480   \n",
       "1547   SPCE  2024-01-23 05:00:00+00:00 -1.239186 -1.244529 -1.225200   \n",
       "\n",
       "         close    volume  trade_count      vwap  \n",
       "1032  3.474965  0.013214     0.622757  3.399282  \n",
       "1033  3.339071  0.033379     0.666481  3.293718  \n",
       "1034  2.861384  0.312218     1.418684  3.046252  \n",
       "1035  2.750198  0.263334     1.088542  2.781320  \n",
       "1036  3.026104  0.257836     1.017290  3.047411  \n",
       "...        ...       ...          ...       ...  \n",
       "1543 -1.293673 -0.316532    -0.404245 -1.306635  \n",
       "1544 -1.301909 -0.394058    -0.606444 -1.299315  \n",
       "1545 -1.310145 -0.212000    -0.449929 -1.326226  \n",
       "1546 -1.256611 -0.878917    -0.974918 -1.256949  \n",
       "1547 -1.244298 -0.606870    -0.728812 -1.235989  \n",
       "\n",
       "[516 rows x 9 columns]"
      ]
     },
     "execution_count": 4,
     "metadata": {},
     "output_type": "execute_result"
    }
   ],
   "source": [
    "def standardize(data:pd.DataFrame, skip_cols:list[str]=[]) -> pd.DataFrame:\n",
    "    skip_cols = [col for col in skip_cols if col in data.columns]\n",
    "    skip = data[skip_cols]\n",
    "    temp = data.drop(skip_cols, axis=1)\n",
    "    temp = (temp - temp.mean()) / temp.std(ddof=0) # standardize\n",
    "    temp = temp.ffill().fillna(0) # impute\n",
    "    return pd.concat([skip, temp], axis=1, join='inner')\n",
    "\n",
    "df = standardize(df, ['symbol', 'timestamp'])\n",
    "df"
   ]
  },
  {
   "cell_type": "code",
   "execution_count": 5,
   "metadata": {},
   "outputs": [],
   "source": [
    "y = df['low'].shift(-1) - df['low'] # since data is standardized, we learn/predict the difference between t-1 and t\n",
    "X = df.drop(['symbol', 'timestamp'], axis=1)"
   ]
  },
  {
   "cell_type": "code",
   "execution_count": 6,
   "metadata": {},
   "outputs": [
    {
     "data": {
      "text/html": [
       "<div>\n",
       "<style scoped>\n",
       "    .dataframe tbody tr th:only-of-type {\n",
       "        vertical-align: middle;\n",
       "    }\n",
       "\n",
       "    .dataframe tbody tr th {\n",
       "        vertical-align: top;\n",
       "    }\n",
       "\n",
       "    .dataframe thead th {\n",
       "        text-align: right;\n",
       "    }\n",
       "</style>\n",
       "<table border=\"1\" class=\"dataframe\">\n",
       "  <thead>\n",
       "    <tr style=\"text-align: right;\">\n",
       "      <th></th>\n",
       "      <th>open</th>\n",
       "      <th>high</th>\n",
       "      <th>low</th>\n",
       "      <th>close</th>\n",
       "      <th>volume</th>\n",
       "      <th>trade_count</th>\n",
       "      <th>vwap</th>\n",
       "    </tr>\n",
       "  </thead>\n",
       "  <tbody>\n",
       "    <tr>\n",
       "      <th>1032</th>\n",
       "      <td>3.439862</td>\n",
       "      <td>3.346928</td>\n",
       "      <td>3.410052</td>\n",
       "      <td>3.474965</td>\n",
       "      <td>0.013214</td>\n",
       "      <td>0.622757</td>\n",
       "      <td>3.399282</td>\n",
       "    </tr>\n",
       "    <tr>\n",
       "      <th>1033</th>\n",
       "      <td>3.505648</td>\n",
       "      <td>3.313171</td>\n",
       "      <td>3.412192</td>\n",
       "      <td>3.339071</td>\n",
       "      <td>0.033379</td>\n",
       "      <td>0.666481</td>\n",
       "      <td>3.293718</td>\n",
       "    </tr>\n",
       "    <tr>\n",
       "      <th>1034</th>\n",
       "      <td>3.250727</td>\n",
       "      <td>3.186277</td>\n",
       "      <td>3.020571</td>\n",
       "      <td>2.861384</td>\n",
       "      <td>0.312218</td>\n",
       "      <td>1.418684</td>\n",
       "      <td>3.046252</td>\n",
       "    </tr>\n",
       "    <tr>\n",
       "      <th>1035</th>\n",
       "      <td>2.901237</td>\n",
       "      <td>2.796112</td>\n",
       "      <td>2.729530</td>\n",
       "      <td>2.750198</td>\n",
       "      <td>0.263334</td>\n",
       "      <td>1.088542</td>\n",
       "      <td>2.781320</td>\n",
       "    </tr>\n",
       "    <tr>\n",
       "      <th>1036</th>\n",
       "      <td>2.831339</td>\n",
       "      <td>2.978025</td>\n",
       "      <td>2.994891</td>\n",
       "      <td>3.026104</td>\n",
       "      <td>0.257836</td>\n",
       "      <td>1.017290</td>\n",
       "      <td>3.047411</td>\n",
       "    </tr>\n",
       "    <tr>\n",
       "      <th>...</th>\n",
       "      <td>...</td>\n",
       "      <td>...</td>\n",
       "      <td>...</td>\n",
       "      <td>...</td>\n",
       "      <td>...</td>\n",
       "      <td>...</td>\n",
       "      <td>...</td>\n",
       "    </tr>\n",
       "    <tr>\n",
       "      <th>1543</th>\n",
       "      <td>-1.321418</td>\n",
       "      <td>-1.319896</td>\n",
       "      <td>-1.306521</td>\n",
       "      <td>-1.293673</td>\n",
       "      <td>-0.316532</td>\n",
       "      <td>-0.404245</td>\n",
       "      <td>-1.306635</td>\n",
       "    </tr>\n",
       "    <tr>\n",
       "      <th>1544</th>\n",
       "      <td>-1.280302</td>\n",
       "      <td>-1.300103</td>\n",
       "      <td>-1.293681</td>\n",
       "      <td>-1.301909</td>\n",
       "      <td>-0.394058</td>\n",
       "      <td>-0.606444</td>\n",
       "      <td>-1.299315</td>\n",
       "    </tr>\n",
       "    <tr>\n",
       "      <th>1545</th>\n",
       "      <td>-1.296749</td>\n",
       "      <td>-1.323863</td>\n",
       "      <td>-1.327921</td>\n",
       "      <td>-1.310145</td>\n",
       "      <td>-0.212000</td>\n",
       "      <td>-0.449929</td>\n",
       "      <td>-1.326226</td>\n",
       "    </tr>\n",
       "    <tr>\n",
       "      <th>1546</th>\n",
       "      <td>-1.259744</td>\n",
       "      <td>-1.288163</td>\n",
       "      <td>-1.229480</td>\n",
       "      <td>-1.256611</td>\n",
       "      <td>-0.878917</td>\n",
       "      <td>-0.974918</td>\n",
       "      <td>-1.256949</td>\n",
       "    </tr>\n",
       "    <tr>\n",
       "      <th>1547</th>\n",
       "      <td>-1.239186</td>\n",
       "      <td>-1.244529</td>\n",
       "      <td>-1.225200</td>\n",
       "      <td>-1.244298</td>\n",
       "      <td>-0.606870</td>\n",
       "      <td>-0.728812</td>\n",
       "      <td>-1.235989</td>\n",
       "    </tr>\n",
       "  </tbody>\n",
       "</table>\n",
       "<p>516 rows × 7 columns</p>\n",
       "</div>"
      ],
      "text/plain": [
       "          open      high       low     close    volume  trade_count      vwap\n",
       "1032  3.439862  3.346928  3.410052  3.474965  0.013214     0.622757  3.399282\n",
       "1033  3.505648  3.313171  3.412192  3.339071  0.033379     0.666481  3.293718\n",
       "1034  3.250727  3.186277  3.020571  2.861384  0.312218     1.418684  3.046252\n",
       "1035  2.901237  2.796112  2.729530  2.750198  0.263334     1.088542  2.781320\n",
       "1036  2.831339  2.978025  2.994891  3.026104  0.257836     1.017290  3.047411\n",
       "...        ...       ...       ...       ...       ...          ...       ...\n",
       "1543 -1.321418 -1.319896 -1.306521 -1.293673 -0.316532    -0.404245 -1.306635\n",
       "1544 -1.280302 -1.300103 -1.293681 -1.301909 -0.394058    -0.606444 -1.299315\n",
       "1545 -1.296749 -1.323863 -1.327921 -1.310145 -0.212000    -0.449929 -1.326226\n",
       "1546 -1.259744 -1.288163 -1.229480 -1.256611 -0.878917    -0.974918 -1.256949\n",
       "1547 -1.239186 -1.244529 -1.225200 -1.244298 -0.606870    -0.728812 -1.235989\n",
       "\n",
       "[516 rows x 7 columns]"
      ]
     },
     "execution_count": 6,
     "metadata": {},
     "output_type": "execute_result"
    }
   ],
   "source": [
    "X"
   ]
  },
  {
   "cell_type": "code",
   "execution_count": 7,
   "metadata": {},
   "outputs": [
    {
     "data": {
      "text/plain": [
       "1032    0.002140\n",
       "1033   -0.391621\n",
       "1034   -0.291041\n",
       "1035    0.265361\n",
       "1036   -0.096300\n",
       "          ...   \n",
       "1543    0.012840\n",
       "1544   -0.034240\n",
       "1545    0.098440\n",
       "1546    0.004280\n",
       "1547         NaN\n",
       "Name: low, Length: 516, dtype: float64"
      ]
     },
     "execution_count": 7,
     "metadata": {},
     "output_type": "execute_result"
    }
   ],
   "source": [
    "y"
   ]
  },
  {
   "cell_type": "code",
   "execution_count": 8,
   "metadata": {},
   "outputs": [
    {
     "name": "stderr",
     "output_type": "stream",
     "text": [
      "2025-07-22 23:44:31.862491: I tensorflow/core/util/port.cc:153] oneDNN custom operations are on. You may see slightly different numerical results due to floating-point round-off errors from different computation orders. To turn them off, set the environment variable `TF_ENABLE_ONEDNN_OPTS=0`.\n",
      "2025-07-22 23:44:32.216491: E external/local_xla/xla/stream_executor/cuda/cuda_fft.cc:467] Unable to register cuFFT factory: Attempting to register factory for plugin cuFFT when one has already been registered\n",
      "WARNING: All log messages before absl::InitializeLog() is called are written to STDERR\n",
      "E0000 00:00:1753245872.336721   14779 cuda_dnn.cc:8579] Unable to register cuDNN factory: Attempting to register factory for plugin cuDNN when one has already been registered\n",
      "E0000 00:00:1753245872.371397   14779 cuda_blas.cc:1407] Unable to register cuBLAS factory: Attempting to register factory for plugin cuBLAS when one has already been registered\n",
      "W0000 00:00:1753245872.682282   14779 computation_placer.cc:177] computation placer already registered. Please check linkage and avoid linking the same target more than once.\n",
      "W0000 00:00:1753245872.682297   14779 computation_placer.cc:177] computation placer already registered. Please check linkage and avoid linking the same target more than once.\n",
      "W0000 00:00:1753245872.682298   14779 computation_placer.cc:177] computation placer already registered. Please check linkage and avoid linking the same target more than once.\n",
      "W0000 00:00:1753245872.682299   14779 computation_placer.cc:177] computation placer already registered. Please check linkage and avoid linking the same target more than once.\n",
      "2025-07-22 23:44:32.714072: I tensorflow/core/platform/cpu_feature_guard.cc:210] This TensorFlow binary is optimized to use available CPU instructions in performance-critical operations.\n",
      "To enable the following instructions: AVX2 AVX_VNNI FMA, in other operations, rebuild TensorFlow with the appropriate compiler flags.\n",
      "I0000 00:00:1753245874.907977   14779 gpu_device.cc:2019] Created device /job:localhost/replica:0/task:0/device:GPU:0 with 9733 MB memory:  -> device: 0, name: NVIDIA GeForce RTX 3060, pci bus id: 0000:01:00.0, compute capability: 8.6\n",
      "I0000 00:00:1753245874.908256   14779 gpu_device.cc:2019] Created device /job:localhost/replica:0/task:0/device:GPU:1 with 4723 MB memory:  -> device: 1, name: NVIDIA GeForce GTX 1660 SUPER, pci bus id: 0000:06:00.0, compute capability: 7.5\n",
      "/mnt/Data/Repos/clique-ml/.cuda/lib/python3.10/site-packages/keras/src/layers/core/dense.py:93: UserWarning: Do not pass an `input_shape`/`input_dim` argument to a layer. When using Sequential models, prefer using an `Input(shape)` object as the first layer in the model instead.\n",
      "  super().__init__(activity_regularizer=activity_regularizer, **kwargs)\n"
     ]
    }
   ],
   "source": [
    "import xgboost as xgb\n",
    "import lightgbm as lgb\n",
    "import catboost as cat\n",
    "import tensorflow as tf\n",
    "layers = tf.keras.layers\n",
    "Sequential = tf.keras.Sequential\n",
    "\n",
    "N_FEATURES = len(X.columns)\n",
    "ACTIVATION_1 = 'tanh' # inputs are standardized (vs normalized) so keep negative range\n",
    "ACTIVATION_2 = 'relu' # performed better than tanh, sigmoid\n",
    "DROPOUT = 0.5         # performed better than 0.3, 0.4\n",
    "RANDOM_SEED = 25      # even funnier that 24\n",
    "\n",
    "tf.keras.utils.set_random_seed(RANDOM_SEED)\n",
    "shared_kw = dict(random_state=RANDOM_SEED, learning_rate=0.2, max_depth=3, subsample=0.8)\n",
    "xgb_lgb_kw = dict(n_jobs=16, colsample_bytree=0.85, reg_alpha=500)\n",
    "xgb_cat_kw = dict(early_stopping_rounds=5)\n",
    "lgb_cat_kw = dict(num_leaves=8, min_child_samples=2000)\n",
    "regularizer = tf.keras.regularizers.l1(0.001)\n",
    "\n",
    "models = [ # order matters if limit is set; frontloading stronger models will cause more rejections; the reverse will oversaturate\n",
    "    xgb.XGBRegressor(**shared_kw, **xgb_lgb_kw, **xgb_cat_kw, eval_metric='mae', tree_method='hist', gamma=0.2),\n",
    "    lgb.LGBMRegressor(**shared_kw, **xgb_lgb_kw, **lgb_cat_kw, early_stopping_round=5, metric='l1', min_split_gain=0.001, verbosity=-1),\n",
    "    cat.CatBoostRegressor(**shared_kw, **xgb_cat_kw, **lgb_cat_kw, eval_metric='MAE'),\n",
    "    Sequential([layers.Dense(1, activation=ACTIVATION_1, input_shape=[N_FEATURES])], name='linear'), # N -> 1\n",
    "    Sequential([ # N -> N/2 -> 1\n",
    "        layers.Dense(N_FEATURES, kernel_regularizer=regularizer, activation=ACTIVATION_1, input_shape=[N_FEATURES]),\n",
    "        layers.Dropout(DROPOUT),\n",
    "        layers.BatchNormalization(),\n",
    "        layers.Dense(N_FEATURES//2, kernel_regularizer=regularizer, activation=ACTIVATION_2),\n",
    "        layers.Dropout(DROPOUT),\n",
    "        layers.BatchNormalization(),\n",
    "        layers.Dense(1)\n",
    "    ], name='net'),\n",
    "]"
   ]
  },
  {
   "cell_type": "code",
   "execution_count": 9,
   "metadata": {},
   "outputs": [
    {
     "data": {
      "text/plain": [
       "<Clique (5 model(s); limit: none)>"
      ]
     },
     "execution_count": 9,
     "metadata": {},
     "output_type": "execute_result"
    }
   ],
   "source": [
    "import clique\n",
    "cutoff = int(len(X)*0.8) # 80/20 train/test split\n",
    "training_inputs, testing_inputs = X[:cutoff], X[cutoff:-1]\n",
    "training_targets, testing_targets = y[:cutoff], y[cutoff:-1]\n",
    "ensemble = clique.Clique(models=models, inputs=testing_inputs, targets=testing_targets)\n",
    "ensemble"
   ]
  },
  {
   "cell_type": "code",
   "execution_count": 10,
   "metadata": {},
   "outputs": [],
   "source": [
    "# ensemble.load('.models/')"
   ]
  },
  {
   "cell_type": "code",
   "execution_count": 11,
   "metadata": {},
   "outputs": [
    {
     "name": "stdout",
     "output_type": "stream",
     "text": [
      "Training ensemble on fold 1\n"
     ]
    },
    {
     "name": "stderr",
     "output_type": "stream",
     "text": [
      "WARNING: All log messages before absl::InitializeLog() is called are written to STDERR\n",
      "I0000 00:00:1753245875.922239   14953 service.cc:152] XLA service 0x74f318018090 initialized for platform CUDA (this does not guarantee that XLA will be used). Devices:\n",
      "I0000 00:00:1753245875.922262   14953 service.cc:160]   StreamExecutor device (0): NVIDIA GeForce RTX 3060, Compute Capability 8.6\n",
      "I0000 00:00:1753245875.922264   14953 service.cc:160]   StreamExecutor device (1): NVIDIA GeForce GTX 1660 SUPER, Compute Capability 7.5\n",
      "2025-07-22 23:44:35.947480: I tensorflow/compiler/mlir/tensorflow/utils/dump_mlir_util.cc:269] disabling MLIR crash reproducer, set env var `MLIR_CRASH_REPRODUCER_DIRECTORY` to enable.\n",
      "I0000 00:00:1753245875.997017   14953 cuda_dnn.cc:529] Loaded cuDNN version 90300\n",
      "I0000 00:00:1753245876.162194   14953 device_compiler.h:188] Compiled cluster using XLA!  This line is logged at most once for the lifetime of the process.\n"
     ]
    },
    {
     "name": "stdout",
     "output_type": "stream",
     "text": [
      "Training ensemble on fold 2\n",
      "Training ensemble on fold 3\n",
      "Training ensemble on fold 4\n",
      "Training ensemble on fold 5\n"
     ]
    }
   ],
   "source": [
    "import gc\n",
    "from sklearn.model_selection import TimeSeriesSplit\n",
    "for fold, (training, validation) in enumerate(TimeSeriesSplit().split(training_inputs)):\n",
    "    print(f'Training ensemble on fold {fold+1}')\n",
    "    val_data = [(training_inputs.iloc[validation, :], training_targets.iloc[validation])]\n",
    "    for model in ensemble:\n",
    "        fit_kw = dict()\n",
    "        predict_kw = dict()\n",
    "        match model.model_type:\n",
    "            case 'Sequential' | 'Model':\n",
    "                if fold == 0: model.compile(optimizer='adam', loss='mae')\n",
    "                keras_kw = dict(verbose=0, batch_size=256)\n",
    "                fit_kw.update(keras_kw)\n",
    "                predict_kw.update(keras_kw)\n",
    "            case 'LGBMRegressor':\n",
    "                fit_kw.update(dict(eval_set=val_data, eval_metric='l1'))\n",
    "            case 'XGBRegressor' | 'CatBoostRegressor':\n",
    "                fit_kw.update(dict(verbose=0, eval_set=val_data))\n",
    "        model.fit_kw = fit_kw\n",
    "        model.predict_kw = predict_kw\n",
    "    ensemble.fit(training_inputs.iloc[training, :], training_targets.iloc[training])\n",
    "    del val_data\n",
    "    while gc.collect() > 0: pass"
   ]
  },
  {
   "cell_type": "code",
   "execution_count": 12,
   "metadata": {},
   "outputs": [
    {
     "ename": "EvaluationError",
     "evalue": "Model is guessing a constant value.",
     "output_type": "error",
     "traceback": [
      "\u001b[0;31m---------------------------------------------------------------------------\u001b[0m",
      "\u001b[0;31mEvaluationError\u001b[0m                           Traceback (most recent call last)",
      "Cell \u001b[0;32mIn[12], line 1\u001b[0m\n\u001b[0;32m----> 1\u001b[0m predictions \u001b[38;5;241m=\u001b[39m \u001b[43mensemble\u001b[49m\u001b[38;5;241;43m.\u001b[39;49m\u001b[43mpredict\u001b[49m\u001b[43m(\u001b[49m\u001b[43mtesting_inputs\u001b[49m\u001b[43m)\u001b[49m\n\u001b[1;32m      2\u001b[0m performance \u001b[38;5;241m=\u001b[39m ensemble\u001b[38;5;241m.\u001b[39mscoring(testing_targets, predictions)\n\u001b[1;32m      3\u001b[0m performance\n",
      "File \u001b[0;32m/mnt/Data/Repos/clique-ml/src/clique/clique.py:317\u001b[0m, in \u001b[0;36mClique.predict\u001b[0;34m(self, X, **kwargs)\u001b[0m\n\u001b[1;32m    315\u001b[0m     mask \u001b[38;5;241m=\u001b[39m masked_invalid(predictions) \u001b[38;5;66;03m# mask NaN and +/- inf to find greatest legit values; https://stackoverflow.com/a/41097911/3178898\u001b[39;00m\n\u001b[1;32m    316\u001b[0m     predictions \u001b[38;5;241m=\u001b[39m nan_to_num(predictions, posinf\u001b[38;5;241m=\u001b[39mmask\u001b[38;5;241m.\u001b[39mmax()\u001b[38;5;241m+\u001b[39mmask\u001b[38;5;241m.\u001b[39mstd(), neginf\u001b[38;5;241m=\u001b[39mmask\u001b[38;5;241m.\u001b[39mmin()\u001b[38;5;241m-\u001b[39mmask\u001b[38;5;241m.\u001b[39mstd()) \u001b[38;5;66;03m# then use those to clamp the invalid ones\u001b[39;00m\n\u001b[0;32m--> 317\u001b[0m     \u001b[38;5;28;01mif\u001b[39;00m \u001b[38;5;28mlen\u001b[39m(unique(predictions)) \u001b[38;5;241m==\u001b[39m \u001b[38;5;241m1\u001b[39m: \u001b[38;5;28;01mraise\u001b[39;00m EvaluationError(\u001b[38;5;124m'\u001b[39m\u001b[38;5;124mModel is guessing a constant value.\u001b[39m\u001b[38;5;124m'\u001b[39m)\n\u001b[1;32m    318\u001b[0m     consensus \u001b[38;5;241m+\u001b[39m\u001b[38;5;241m=\u001b[39m predictions\n\u001b[1;32m    319\u001b[0m consensus \u001b[38;5;241m=\u001b[39m consensus \u001b[38;5;241m/\u001b[39m \u001b[38;5;28mlen\u001b[39m(\u001b[38;5;28mself\u001b[39m)\n",
      "\u001b[0;31mEvaluationError\u001b[0m: Model is guessing a constant value."
     ]
    }
   ],
   "source": [
    "predictions = ensemble.predict(testing_inputs)\n",
    "performance = ensemble.scoring(testing_targets, predictions)\n",
    "performance"
   ]
  },
  {
   "cell_type": "code",
   "execution_count": null,
   "metadata": {},
   "outputs": [
    {
     "data": {
      "text/plain": [
       "<Clique (5 model(s); limit: none)>"
      ]
     },
     "execution_count": 13,
     "metadata": {},
     "output_type": "execute_result"
    }
   ],
   "source": [
    "ensemble.evaluate()"
   ]
  },
  {
   "cell_type": "code",
   "execution_count": null,
   "metadata": {},
   "outputs": [
    {
     "data": {
      "text/plain": [
       "0.29060288085907704"
      ]
     },
     "execution_count": 14,
     "metadata": {},
     "output_type": "execute_result"
    }
   ],
   "source": [
    "ensemble.mean_score"
   ]
  },
  {
   "cell_type": "code",
   "execution_count": null,
   "metadata": {},
   "outputs": [
    {
     "data": {
      "text/plain": [
       "0.07976239276254381"
      ]
     },
     "execution_count": 15,
     "metadata": {},
     "output_type": "execute_result"
    }
   ],
   "source": [
    "ensemble.best_score"
   ]
  },
  {
   "cell_type": "code",
   "execution_count": null,
   "metadata": {},
   "outputs": [
    {
     "data": {
      "text/plain": [
       "<ModelProfile (CatBoostRegressor)>"
      ]
     },
     "execution_count": 16,
     "metadata": {},
     "output_type": "execute_result"
    }
   ],
   "source": [
    "ensemble.best_model"
   ]
  },
  {
   "cell_type": "code",
   "execution_count": null,
   "metadata": {},
   "outputs": [
    {
     "data": {
      "text/plain": [
       "<Clique (5 model(s); limit: none)>"
      ]
     },
     "execution_count": 17,
     "metadata": {},
     "output_type": "execute_result"
    }
   ],
   "source": [
    "ensemble.save('.models/')"
   ]
  },
  {
   "cell_type": "code",
   "execution_count": null,
   "metadata": {},
   "outputs": [
    {
     "name": "stdout",
     "output_type": "stream",
     "text": [
      "\u001b[1m4/4\u001b[0m \u001b[32m━━━━━━━━━━━━━━━━━━━━\u001b[0m\u001b[37m\u001b[0m \u001b[1m0s\u001b[0m 28ms/step\n",
      "\u001b[1m4/4\u001b[0m \u001b[32m━━━━━━━━━━━━━━━━━━━━\u001b[0m\u001b[37m\u001b[0m \u001b[1m0s\u001b[0m 3ms/step\n",
      "\u001b[1m4/4\u001b[0m \u001b[32m━━━━━━━━━━━━━━━━━━━━\u001b[0m\u001b[37m\u001b[0m \u001b[1m0s\u001b[0m 39ms/step\n",
      "\u001b[1m4/4\u001b[0m \u001b[32m━━━━━━━━━━━━━━━━━━━━\u001b[0m\u001b[37m\u001b[0m \u001b[1m0s\u001b[0m 3ms/step\n",
      "\u001b[1m4/4\u001b[0m \u001b[32m━━━━━━━━━━━━━━━━━━━━\u001b[0m\u001b[37m\u001b[0m \u001b[1m0s\u001b[0m 26ms/step\n",
      "WARNING:tensorflow:5 out of the last 13 calls to <function TensorFlowTrainer.make_predict_function.<locals>.one_step_on_data_distributed at 0x77d9001b89d0> triggered tf.function retracing. Tracing is expensive and the excessive number of tracings could be due to (1) creating @tf.function repeatedly in a loop, (2) passing tensors with different shapes, (3) passing Python objects instead of tensors. For (1), please define your @tf.function outside of the loop. For (2), @tf.function has reduce_retracing=True option that can avoid unnecessary retracing. For (3), please refer to https://www.tensorflow.org/guide/function#controlling_retracing and https://www.tensorflow.org/api_docs/python/tf/function for  more details.\n",
      "\u001b[1m1/4\u001b[0m \u001b[32m━━━━━\u001b[0m\u001b[37m━━━━━━━━━━━━━━━\u001b[0m \u001b[1m0s\u001b[0m 140ms/stepWARNING:tensorflow:5 out of the last 13 calls to <function TensorFlowTrainer.make_predict_function.<locals>.one_step_on_data_distributed at 0x77d9001b89d0> triggered tf.function retracing. Tracing is expensive and the excessive number of tracings could be due to (1) creating @tf.function repeatedly in a loop, (2) passing tensors with different shapes, (3) passing Python objects instead of tensors. For (1), please define your @tf.function outside of the loop. For (2), @tf.function has reduce_retracing=True option that can avoid unnecessary retracing. For (3), please refer to https://www.tensorflow.org/guide/function#controlling_retracing and https://www.tensorflow.org/api_docs/python/tf/function for  more details.\n",
      "\u001b[1m4/4\u001b[0m \u001b[32m━━━━━━━━━━━━━━━━━━━━\u001b[0m\u001b[37m\u001b[0m \u001b[1m0s\u001b[0m 40ms/step\n",
      "\u001b[1m4/4\u001b[0m \u001b[32m━━━━━━━━━━━━━━━━━━━━\u001b[0m\u001b[37m\u001b[0m \u001b[1m0s\u001b[0m 3ms/step\n",
      "\u001b[1m4/4\u001b[0m \u001b[32m━━━━━━━━━━━━━━━━━━━━\u001b[0m\u001b[37m\u001b[0m \u001b[1m0s\u001b[0m 3ms/step\n"
     ]
    },
    {
     "data": {
      "text/plain": [
       "<Clique (3 model(s); limit: 3)>"
      ]
     },
     "execution_count": 18,
     "metadata": {},
     "output_type": "execute_result"
    }
   ],
   "source": [
    "exclusive = clique.Clique(models='.models/', limit=3, inputs=testing_inputs, targets=testing_targets).evaluate().prune()\n",
    "exclusive"
   ]
  },
  {
   "cell_type": "code",
   "execution_count": null,
   "metadata": {},
   "outputs": [
    {
     "data": {
      "text/plain": [
       "0.07976239276254381"
      ]
     },
     "execution_count": 19,
     "metadata": {},
     "output_type": "execute_result"
    }
   ],
   "source": [
    "exclusive.best_score"
   ]
  },
  {
   "cell_type": "code",
   "execution_count": null,
   "metadata": {},
   "outputs": [
    {
     "data": {
      "text/plain": [
       "<ModelProfile (CatBoostRegressor)>"
      ]
     },
     "execution_count": 20,
     "metadata": {},
     "output_type": "execute_result"
    }
   ],
   "source": [
    "exclusive.best_model"
   ]
  },
  {
   "cell_type": "code",
   "execution_count": null,
   "metadata": {},
   "outputs": [
    {
     "ename": "EvaluationError",
     "evalue": "Testing inputs and targets have not been defined.",
     "output_type": "error",
     "traceback": [
      "\u001b[0;31m---------------------------------------------------------------------------\u001b[0m",
      "\u001b[0;31mEvaluationError\u001b[0m                           Traceback (most recent call last)",
      "Cell \u001b[0;32mIn[21], line 2\u001b[0m\n\u001b[1;32m      1\u001b[0m clique\u001b[38;5;241m.\u001b[39mClique(models\u001b[38;5;241m=\u001b[39mmodels)\u001b[38;5;241m.\u001b[39msave(\u001b[38;5;124m'\u001b[39m\u001b[38;5;124m.untrained/\u001b[39m\u001b[38;5;124m'\u001b[39m)\n\u001b[0;32m----> 2\u001b[0m \u001b[43mclique\u001b[49m\u001b[38;5;241;43m.\u001b[39;49m\u001b[43mClique\u001b[49m\u001b[43m(\u001b[49m\u001b[43mmodels\u001b[49m\u001b[38;5;241;43m=\u001b[39;49m\u001b[38;5;124;43m'\u001b[39;49m\u001b[38;5;124;43m.untrained/\u001b[39;49m\u001b[38;5;124;43m'\u001b[39;49m\u001b[43m)\u001b[49m\u001b[38;5;241;43m.\u001b[39;49m\u001b[43mevaluate\u001b[49m\u001b[43m(\u001b[49m\u001b[43m)\u001b[49m \u001b[38;5;66;03m# EvaluationError\u001b[39;00m\n",
      "File \u001b[0;32m/mnt/Data/Repos/clique-ml/src/clique/clique.py:283\u001b[0m, in \u001b[0;36mClique.evaluate\u001b[0;34m(self)\u001b[0m\n\u001b[1;32m    277\u001b[0m \u001b[38;5;28;01mdef\u001b[39;00m\u001b[38;5;250m \u001b[39m\u001b[38;5;21mevaluate\u001b[39m(\u001b[38;5;28mself\u001b[39m) \u001b[38;5;241m-\u001b[39m\u001b[38;5;241m>\u001b[39m Self:\n\u001b[1;32m    278\u001b[0m \u001b[38;5;250m    \u001b[39m\u001b[38;5;124;03m'''\u001b[39;00m\n\u001b[1;32m    279\u001b[0m \u001b[38;5;124;03m    Scores all of the models in the ensemble against the ensemble's testing data and scoring function.\u001b[39;00m\n\u001b[1;32m    280\u001b[0m \u001b[38;5;124;03m    Raises an error if the test data has not been set, or the scoring function is not configured properly.\u001b[39;00m\n\u001b[1;32m    281\u001b[0m \u001b[38;5;124;03m    Returns the instance for method chaining.\u001b[39;00m\n\u001b[1;32m    282\u001b[0m \u001b[38;5;124;03m    '''\u001b[39;00m\n\u001b[0;32m--> 283\u001b[0m     \u001b[38;5;28;01mif\u001b[39;00m \u001b[38;5;28mself\u001b[39m\u001b[38;5;241m.\u001b[39minputs \u001b[38;5;129;01mis\u001b[39;00m \u001b[38;5;28;01mNone\u001b[39;00m \u001b[38;5;129;01mor\u001b[39;00m \u001b[38;5;28mself\u001b[39m\u001b[38;5;241m.\u001b[39mtargets \u001b[38;5;129;01mis\u001b[39;00m \u001b[38;5;28;01mNone\u001b[39;00m: \u001b[38;5;28;01mraise\u001b[39;00m EvaluationError(\u001b[38;5;124m'\u001b[39m\u001b[38;5;124mTesting inputs and targets have not been defined.\u001b[39m\u001b[38;5;124m'\u001b[39m)\n\u001b[1;32m    284\u001b[0m     \u001b[38;5;28;01mif\u001b[39;00m \u001b[38;5;129;01mnot\u001b[39;00m \u001b[38;5;28mself\u001b[39m\u001b[38;5;241m.\u001b[39mcan_evaluate: \u001b[38;5;28;01mraise\u001b[39;00m EvaluationError(\u001b[38;5;124m'\u001b[39m\u001b[38;5;124mCannot evaluate models before they are trained. Call `fit` first.\u001b[39m\u001b[38;5;124m'\u001b[39m)\n\u001b[1;32m    285\u001b[0m     \u001b[38;5;28;01mfor\u001b[39;00m model \u001b[38;5;129;01min\u001b[39;00m \u001b[38;5;28mself\u001b[39m: model\u001b[38;5;241m.\u001b[39mscore \u001b[38;5;241m=\u001b[39m \u001b[38;5;28mself\u001b[39m\u001b[38;5;241m.\u001b[39mscoring(\u001b[38;5;28mself\u001b[39m\u001b[38;5;241m.\u001b[39mtargets, model\u001b[38;5;241m.\u001b[39mpredict(\u001b[38;5;28mself\u001b[39m\u001b[38;5;241m.\u001b[39minputs))\n",
      "\u001b[0;31mEvaluationError\u001b[0m: Testing inputs and targets have not been defined."
     ]
    }
   ],
   "source": [
    "clique.Clique(models=models).save('.untrained/')\n",
    "clique.Clique(models='.untrained/').evaluate() # EvaluationError"
   ]
  },
  {
   "cell_type": "code",
   "execution_count": null,
   "metadata": {},
   "outputs": [],
   "source": []
  }
 ],
 "metadata": {
  "kernelspec": {
   "display_name": ".cuda",
   "language": "python",
   "name": "python3"
  },
  "language_info": {
   "codemirror_mode": {
    "name": "ipython",
    "version": 3
   },
   "file_extension": ".py",
   "mimetype": "text/x-python",
   "name": "python",
   "nbconvert_exporter": "python",
   "pygments_lexer": "ipython3",
   "version": "3.10.12"
  }
 },
 "nbformat": 4,
 "nbformat_minor": 2
}
